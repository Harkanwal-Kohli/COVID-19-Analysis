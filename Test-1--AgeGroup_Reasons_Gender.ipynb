{
 "cells": [
  {
   "cell_type": "code",
   "execution_count": 1,
   "metadata": {
    "pycharm": {
     "is_executing": false
    }
   },
   "outputs": [],
   "source": [
    "import pandas as pd\n",
    "import seaborn as sns\n",
    "import matplotlib.pyplot as plt\n",
    "import numpy as np"
   ]
  },
  {
   "cell_type": "code",
   "execution_count": 2,
   "metadata": {
    "pycharm": {
     "is_executing": false
    }
   },
   "outputs": [],
   "source": [
    "data = pd.read_csv(r\"D:\\python\\3335\\untitled\\Data\\CaseDemographics.csv\")"
   ]
  },
  {
   "cell_type": "code",
   "execution_count": 3,
   "metadata": {
    "pycharm": {
     "is_executing": false
    }
   },
   "outputs": [
    {
     "data": {
      "text/plain": [
       "Index(['ObjectId', 'row_id', 'date_reported', 'health_region', 'age_group',\n",
       "       'gender', 'exposure', 'case_status', 'province', 'province_abbr',\n",
       "       'hr_uid'],\n",
       "      dtype='object')"
      ]
     },
     "execution_count": 3,
     "metadata": {},
     "output_type": "execute_result"
    }
   ],
   "source": [
    "data.columns"
   ]
  },
  {
   "cell_type": "code",
   "execution_count": 4,
   "metadata": {
    "pycharm": {
     "is_executing": false
    }
   },
   "outputs": [
    {
     "name": "stdout",
     "output_type": "stream",
     "text": [
      "<class 'pandas.core.frame.DataFrame'>\n",
      "RangeIndex: 108155 entries, 0 to 108154\n",
      "Data columns (total 11 columns):\n",
      " #   Column         Non-Null Count   Dtype  \n",
      "---  ------         --------------   -----  \n",
      " 0   ObjectId       108155 non-null  int64  \n",
      " 1   row_id         108155 non-null  int64  \n",
      " 2   date_reported  108155 non-null  object \n",
      " 3   health_region  108155 non-null  object \n",
      " 4   age_group      108155 non-null  object \n",
      " 5   gender         108155 non-null  object \n",
      " 6   exposure       108155 non-null  object \n",
      " 7   case_status    108155 non-null  object \n",
      " 8   province       108155 non-null  object \n",
      " 9   province_abbr  108155 non-null  object \n",
      " 10  hr_uid         107873 non-null  float64\n",
      "dtypes: float64(1), int64(2), object(8)\n",
      "memory usage: 9.1+ MB\n"
     ]
    }
   ],
   "source": [
    "data.info()"
   ]
  },
  {
   "cell_type": "code",
   "execution_count": 5,
   "metadata": {
    "pycharm": {
     "is_executing": false
    }
   },
   "outputs": [
    {
     "data": {
      "text/plain": [
       "ObjectId           int64\n",
       "row_id             int64\n",
       "date_reported     object\n",
       "health_region     object\n",
       "age_group         object\n",
       "gender            object\n",
       "exposure          object\n",
       "case_status       object\n",
       "province          object\n",
       "province_abbr     object\n",
       "hr_uid           float64\n",
       "dtype: object"
      ]
     },
     "execution_count": 5,
     "metadata": {},
     "output_type": "execute_result"
    }
   ],
   "source": [
    "data.dtypes"
   ]
  },
  {
   "cell_type": "code",
   "execution_count": 6,
   "metadata": {
    "pycharm": {
     "is_executing": false
    }
   },
   "outputs": [
    {
     "data": {
      "text/plain": [
       "(108155, 11)"
      ]
     },
     "execution_count": 6,
     "metadata": {},
     "output_type": "execute_result"
    }
   ],
   "source": [
    "data.shape"
   ]
  },
  {
   "cell_type": "code",
   "execution_count": 7,
   "metadata": {
    "pycharm": {
     "is_executing": false
    }
   },
   "outputs": [
    {
     "data": {
      "text/plain": [
       "ObjectId           0\n",
       "row_id             0\n",
       "date_reported      0\n",
       "health_region      0\n",
       "age_group          0\n",
       "gender             0\n",
       "exposure           0\n",
       "case_status        0\n",
       "province           0\n",
       "province_abbr      0\n",
       "hr_uid           282\n",
       "dtype: int64"
      ]
     },
     "execution_count": 7,
     "metadata": {},
     "output_type": "execute_result"
    }
   ],
   "source": [
    "data.isnull().sum()"
   ]
  },
  {
   "cell_type": "code",
   "execution_count": 8,
   "metadata": {
    "pycharm": {
     "is_executing": false
    }
   },
   "outputs": [
    {
     "data": {
      "text/html": [
       "<div>\n",
       "<style scoped>\n",
       "    .dataframe tbody tr th:only-of-type {\n",
       "        vertical-align: middle;\n",
       "    }\n",
       "\n",
       "    .dataframe tbody tr th {\n",
       "        vertical-align: top;\n",
       "    }\n",
       "\n",
       "    .dataframe thead th {\n",
       "        text-align: right;\n",
       "    }\n",
       "</style>\n",
       "<table border=\"1\" class=\"dataframe\">\n",
       "  <thead>\n",
       "    <tr style=\"text-align: right;\">\n",
       "      <th></th>\n",
       "      <th>ObjectId</th>\n",
       "      <th>row_id</th>\n",
       "      <th>date_reported</th>\n",
       "      <th>health_region</th>\n",
       "      <th>age_group</th>\n",
       "      <th>gender</th>\n",
       "      <th>exposure</th>\n",
       "      <th>case_status</th>\n",
       "      <th>province</th>\n",
       "      <th>province_abbr</th>\n",
       "      <th>hr_uid</th>\n",
       "    </tr>\n",
       "  </thead>\n",
       "  <tbody>\n",
       "    <tr>\n",
       "      <th>0</th>\n",
       "      <td>1</td>\n",
       "      <td>1500</td>\n",
       "      <td>01-01-2020 12:00</td>\n",
       "      <td>Peel Public Health</td>\n",
       "      <td>40-49</td>\n",
       "      <td>Female</td>\n",
       "      <td>Close Contact</td>\n",
       "      <td>Recovered</td>\n",
       "      <td>Ontario</td>\n",
       "      <td>ON</td>\n",
       "      <td>3553.0</td>\n",
       "    </tr>\n",
       "    <tr>\n",
       "      <th>1</th>\n",
       "      <td>2</td>\n",
       "      <td>1501</td>\n",
       "      <td>01-01-2020 12:00</td>\n",
       "      <td>York Region Public Health Services</td>\n",
       "      <td>40-49</td>\n",
       "      <td>Female</td>\n",
       "      <td>Outbreak</td>\n",
       "      <td>Recovered</td>\n",
       "      <td>Ontario</td>\n",
       "      <td>ON</td>\n",
       "      <td>3570.0</td>\n",
       "    </tr>\n",
       "    <tr>\n",
       "      <th>2</th>\n",
       "      <td>3</td>\n",
       "      <td>1502</td>\n",
       "      <td>10-01-2020 12:00</td>\n",
       "      <td>Peel Public Health</td>\n",
       "      <td>50-59</td>\n",
       "      <td>Female</td>\n",
       "      <td>Close Contact</td>\n",
       "      <td>Recovered</td>\n",
       "      <td>Ontario</td>\n",
       "      <td>ON</td>\n",
       "      <td>3553.0</td>\n",
       "    </tr>\n",
       "    <tr>\n",
       "      <th>3</th>\n",
       "      <td>4</td>\n",
       "      <td>1503</td>\n",
       "      <td>21-01-2020 12:00</td>\n",
       "      <td>Peel Public Health</td>\n",
       "      <td>50-59</td>\n",
       "      <td>Female</td>\n",
       "      <td>Travel-Related</td>\n",
       "      <td>Recovered</td>\n",
       "      <td>Ontario</td>\n",
       "      <td>ON</td>\n",
       "      <td>3553.0</td>\n",
       "    </tr>\n",
       "    <tr>\n",
       "      <th>4</th>\n",
       "      <td>5</td>\n",
       "      <td>1504</td>\n",
       "      <td>22-01-2020 12:00</td>\n",
       "      <td>Windsor-Essex County Health Unit</td>\n",
       "      <td>20-29</td>\n",
       "      <td>Female</td>\n",
       "      <td>Travel-Related</td>\n",
       "      <td>Recovered</td>\n",
       "      <td>Ontario</td>\n",
       "      <td>ON</td>\n",
       "      <td>3568.0</td>\n",
       "    </tr>\n",
       "  </tbody>\n",
       "</table>\n",
       "</div>"
      ],
      "text/plain": [
       "   ObjectId  row_id     date_reported                       health_region  \\\n",
       "0         1    1500  01-01-2020 12:00                  Peel Public Health   \n",
       "1         2    1501  01-01-2020 12:00  York Region Public Health Services   \n",
       "2         3    1502  10-01-2020 12:00                  Peel Public Health   \n",
       "3         4    1503  21-01-2020 12:00                  Peel Public Health   \n",
       "4         5    1504  22-01-2020 12:00    Windsor-Essex County Health Unit   \n",
       "\n",
       "  age_group  gender        exposure case_status province province_abbr  hr_uid  \n",
       "0     40-49  Female   Close Contact   Recovered  Ontario            ON  3553.0  \n",
       "1     40-49  Female        Outbreak   Recovered  Ontario            ON  3570.0  \n",
       "2     50-59  Female   Close Contact   Recovered  Ontario            ON  3553.0  \n",
       "3     50-59  Female  Travel-Related   Recovered  Ontario            ON  3553.0  \n",
       "4     20-29  Female  Travel-Related   Recovered  Ontario            ON  3568.0  "
      ]
     },
     "execution_count": 8,
     "metadata": {},
     "output_type": "execute_result"
    }
   ],
   "source": [
    "data.head()"
   ]
  },
  {
   "cell_type": "code",
   "execution_count": 9,
   "metadata": {
    "pycharm": {
     "is_executing": false
    }
   },
   "outputs": [
    {
     "data": {
      "text/html": [
       "<div>\n",
       "<style scoped>\n",
       "    .dataframe tbody tr th:only-of-type {\n",
       "        vertical-align: middle;\n",
       "    }\n",
       "\n",
       "    .dataframe tbody tr th {\n",
       "        vertical-align: top;\n",
       "    }\n",
       "\n",
       "    .dataframe thead th {\n",
       "        text-align: right;\n",
       "    }\n",
       "</style>\n",
       "<table border=\"1\" class=\"dataframe\">\n",
       "  <thead>\n",
       "    <tr style=\"text-align: right;\">\n",
       "      <th></th>\n",
       "      <th>ObjectId</th>\n",
       "      <th>row_id</th>\n",
       "      <th>date_reported</th>\n",
       "      <th>health_region</th>\n",
       "      <th>age_group</th>\n",
       "      <th>gender</th>\n",
       "      <th>exposure</th>\n",
       "      <th>case_status</th>\n",
       "      <th>province</th>\n",
       "      <th>province_abbr</th>\n",
       "      <th>hr_uid</th>\n",
       "    </tr>\n",
       "  </thead>\n",
       "  <tbody>\n",
       "    <tr>\n",
       "      <th>108150</th>\n",
       "      <td>108151</td>\n",
       "      <td>108150</td>\n",
       "      <td>13-07-2020 12:00</td>\n",
       "      <td>Not Reported</td>\n",
       "      <td>Not Reported</td>\n",
       "      <td>Not Reported</td>\n",
       "      <td>Travel-Related</td>\n",
       "      <td>Not Reported</td>\n",
       "      <td>Repatriated</td>\n",
       "      <td>RC</td>\n",
       "      <td>NaN</td>\n",
       "    </tr>\n",
       "    <tr>\n",
       "      <th>108151</th>\n",
       "      <td>108152</td>\n",
       "      <td>108151</td>\n",
       "      <td>13-07-2020 12:00</td>\n",
       "      <td>Not Reported</td>\n",
       "      <td>Not Reported</td>\n",
       "      <td>Not Reported</td>\n",
       "      <td>Travel-Related</td>\n",
       "      <td>Not Reported</td>\n",
       "      <td>Repatriated</td>\n",
       "      <td>RC</td>\n",
       "      <td>NaN</td>\n",
       "    </tr>\n",
       "    <tr>\n",
       "      <th>108152</th>\n",
       "      <td>108153</td>\n",
       "      <td>108152</td>\n",
       "      <td>13-07-2020 12:00</td>\n",
       "      <td>Not Reported</td>\n",
       "      <td>Not Reported</td>\n",
       "      <td>Not Reported</td>\n",
       "      <td>Travel-Related</td>\n",
       "      <td>Not Reported</td>\n",
       "      <td>Repatriated</td>\n",
       "      <td>RC</td>\n",
       "      <td>NaN</td>\n",
       "    </tr>\n",
       "    <tr>\n",
       "      <th>108153</th>\n",
       "      <td>108154</td>\n",
       "      <td>108153</td>\n",
       "      <td>13-07-2020 12:00</td>\n",
       "      <td>Not Reported</td>\n",
       "      <td>Not Reported</td>\n",
       "      <td>Not Reported</td>\n",
       "      <td>Travel-Related</td>\n",
       "      <td>Not Reported</td>\n",
       "      <td>Repatriated</td>\n",
       "      <td>RC</td>\n",
       "      <td>NaN</td>\n",
       "    </tr>\n",
       "    <tr>\n",
       "      <th>108154</th>\n",
       "      <td>108155</td>\n",
       "      <td>108154</td>\n",
       "      <td>13-07-2020 12:00</td>\n",
       "      <td>Not Reported</td>\n",
       "      <td>Not Reported</td>\n",
       "      <td>Not Reported</td>\n",
       "      <td>Travel-Related</td>\n",
       "      <td>Not Reported</td>\n",
       "      <td>Repatriated</td>\n",
       "      <td>RC</td>\n",
       "      <td>NaN</td>\n",
       "    </tr>\n",
       "  </tbody>\n",
       "</table>\n",
       "</div>"
      ],
      "text/plain": [
       "        ObjectId  row_id     date_reported health_region     age_group  \\\n",
       "108150    108151  108150  13-07-2020 12:00  Not Reported  Not Reported   \n",
       "108151    108152  108151  13-07-2020 12:00  Not Reported  Not Reported   \n",
       "108152    108153  108152  13-07-2020 12:00  Not Reported  Not Reported   \n",
       "108153    108154  108153  13-07-2020 12:00  Not Reported  Not Reported   \n",
       "108154    108155  108154  13-07-2020 12:00  Not Reported  Not Reported   \n",
       "\n",
       "              gender        exposure   case_status     province province_abbr  \\\n",
       "108150  Not Reported  Travel-Related  Not Reported  Repatriated            RC   \n",
       "108151  Not Reported  Travel-Related  Not Reported  Repatriated            RC   \n",
       "108152  Not Reported  Travel-Related  Not Reported  Repatriated            RC   \n",
       "108153  Not Reported  Travel-Related  Not Reported  Repatriated            RC   \n",
       "108154  Not Reported  Travel-Related  Not Reported  Repatriated            RC   \n",
       "\n",
       "        hr_uid  \n",
       "108150     NaN  \n",
       "108151     NaN  \n",
       "108152     NaN  \n",
       "108153     NaN  \n",
       "108154     NaN  "
      ]
     },
     "execution_count": 9,
     "metadata": {},
     "output_type": "execute_result"
    }
   ],
   "source": [
    "data.tail()"
   ]
  },
  {
   "cell_type": "code",
   "execution_count": 10,
   "metadata": {
    "pycharm": {
     "is_executing": false
    }
   },
   "outputs": [
    {
     "data": {
      "text/plain": [
       "Not Reported    59678\n",
       "50-59            7749\n",
       "30-39            7570\n",
       "40-49            7536\n",
       "20-29            7532\n",
       "80+              6234\n",
       "60-69            5204\n",
       "<20              3332\n",
       "70-79            3320\n",
       "Name: age_group, dtype: int64"
      ]
     },
     "execution_count": 10,
     "metadata": {},
     "output_type": "execute_result"
    }
   ],
   "source": [
    "ageGroup = data.age_group.value_counts()\n",
    "ageGroup"
   ]
  },
  {
   "cell_type": "code",
   "execution_count": 11,
   "metadata": {
    "pycharm": {
     "is_executing": false
    }
   },
   "outputs": [
    {
     "data": {
      "image/png": "[encoded data removed]",
      "text/plain": [
       "<Figure size 432x288 with 1 Axes>"
      ]
     },
     "metadata": {
      "needs_background": "light"
     },
     "output_type": "display_data"
    }
   ],
   "source": [
    "ageGroup.plot(kind='bar')\n",
    "plt.title(\"Totals\")\n",
    "plt.xlabel(\"Age-Group\")\n",
    "plt.ylabel(\"Count\")\n",
    "plt.xticks(rotation=90)\n",
    "plt.show()"
   ]
  },
  {
   "cell_type": "code",
   "execution_count": 12,
   "metadata": {
    "pycharm": {
     "is_executing": false
    }
   },
   "outputs": [
    {
     "data": {
      "text/plain": [
       "Not Reported    59520\n",
       "Female          25488\n",
       "Male            23130\n",
       "Other               9\n",
       "Transgender         8\n",
       "Name: gender, dtype: int64"
      ]
     },
     "execution_count": 12,
     "metadata": {},
     "output_type": "execute_result"
    }
   ],
   "source": [
    "Gender = data.gender.value_counts()\n",
    "Gender"
   ]
  },
  {
   "cell_type": "code",
   "execution_count": 13,
   "metadata": {
    "pycharm": {
     "is_executing": false
    }
   },
   "outputs": [
    {
     "data": {
      "image/png": "[encoded data removed]",
      "text/plain": [
       "<Figure size 432x288 with 1 Axes>"
      ]
     },
     "metadata": {
      "needs_background": "light"
     },
     "output_type": "display_data"
    }
   ],
   "source": [
    "Gender.plot(kind='bar')\n",
    "plt.title(\"Totals\")\n",
    "plt.xlabel(\"Gender\")\n",
    "plt.ylabel(\"Count\")\n",
    "plt.xticks(rotation=90)\n",
    "plt.show()"
   ]
  },
  {
   "cell_type": "code",
   "execution_count": 14,
   "metadata": {
    "pycharm": {
     "is_executing": false
    }
   },
   "outputs": [
    {
     "data": {
      "text/plain": [
       "Not Reported               72800\n",
       "Outbreak                   14582\n",
       "Close Contact              11478\n",
       "No Epidemiological Link     7313\n",
       "Travel-Related              1976\n",
       "Community                      6\n",
       "Name: exposure, dtype: int64"
      ]
     },
     "execution_count": 14,
     "metadata": {},
     "output_type": "execute_result"
    }
   ],
   "source": [
    "Exposure = data.exposure.value_counts()\n",
    "Exposure"
   ]
  },
  {
   "cell_type": "code",
   "execution_count": 15,
   "metadata": {
    "pycharm": {
     "is_executing": false
    }
   },
   "outputs": [
    {
     "data": {
      "image/png": "[encoded data removed]",
      "text/plain": [
       "<Figure size 432x288 with 1 Axes>"
      ]
     },
     "metadata": {
      "needs_background": "light"
     },
     "output_type": "display_data"
    }
   ],
   "source": [
    "Gender.plot(kind='bar')\n",
    "plt.title(\"Totals\")\n",
    "plt.xlabel(\"Exposure Reason\")\n",
    "plt.ylabel(\"Count\")\n",
    "plt.xticks(rotation=90)\n",
    "plt.show()"
   ]
  },
  {
   "cell_type": "code",
   "execution_count": 16,
   "metadata": {
    "pycharm": {
     "is_executing": false
    }
   },
   "outputs": [],
   "source": [
    "CaseStatus = data.case_status.value_counts()"
   ]
  },
  {
   "cell_type": "code",
   "execution_count": 17,
   "metadata": {
    "pycharm": {
     "is_executing": false
    }
   },
   "outputs": [
    {
     "data": {
      "image/png": "[encoded data removed]",
      "text/plain": [
       "<Figure size 432x288 with 1 Axes>"
      ]
     },
     "metadata": {
      "needs_background": "light"
     },
     "output_type": "display_data"
    }
   ],
   "source": [
    "CaseStatus.plot(kind='bar')\n",
    "plt.title(\"Totals\")\n",
    "plt.xlabel(\"Case Status\")\n",
    "plt.ylabel(\"Count\")\n",
    "plt.xticks(rotation=90)\n",
    "plt.show()"
   ]
  },
  {
   "cell_type": "code",
   "execution_count": 17,
   "metadata": {
    "pycharm": {
     "is_executing": false
    }
   },
   "outputs": [],
   "source": []
  },
  {
   "cell_type": "code",
   "execution_count": 18,
   "metadata": {
    "pycharm": {
     "is_executing": false
    }
   },
   "outputs": [
    {
     "name": "stderr",
     "output_type": "stream",
     "text": [
      "c:\\users\\mrkoh\\pycharmprojects\\untitled1\\venv\\lib\\site-packages\\IPython\\core\\interactiveshell.py:3063: DtypeWarning: Columns (7) have mixed types.Specify dtype option on import or set low_memory=False.\n",
      "  interactivity=interactivity, compiler=compiler, result=result)\n"
     ]
    }
   ],
   "source": [
    "missing_values = [\"Not Reported\"]\n",
    "dataframedf = pd.read_csv(r\"D:\\python\\3335\\untitled\\Data\\CaseDemographics.csv\", na_values = missing_values)"
   ]
  },
  {
   "cell_type": "code",
   "execution_count": 19,
   "metadata": {
    "pycharm": {
     "is_executing": false
    }
   },
   "outputs": [
    {
     "data": {
      "text/html": [
       "<div>\n",
       "<style scoped>\n",
       "    .dataframe tbody tr th:only-of-type {\n",
       "        vertical-align: middle;\n",
       "    }\n",
       "\n",
       "    .dataframe tbody tr th {\n",
       "        vertical-align: top;\n",
       "    }\n",
       "\n",
       "    .dataframe thead th {\n",
       "        text-align: right;\n",
       "    }\n",
       "</style>\n",
       "<table border=\"1\" class=\"dataframe\">\n",
       "  <thead>\n",
       "    <tr style=\"text-align: right;\">\n",
       "      <th></th>\n",
       "      <th>ObjectId</th>\n",
       "      <th>row_id</th>\n",
       "      <th>date_reported</th>\n",
       "      <th>health_region</th>\n",
       "      <th>age_group</th>\n",
       "      <th>gender</th>\n",
       "      <th>exposure</th>\n",
       "      <th>case_status</th>\n",
       "      <th>province</th>\n",
       "      <th>province_abbr</th>\n",
       "      <th>hr_uid</th>\n",
       "    </tr>\n",
       "  </thead>\n",
       "  <tbody>\n",
       "    <tr>\n",
       "      <th>0</th>\n",
       "      <td>1</td>\n",
       "      <td>1500</td>\n",
       "      <td>01-01-2020 12:00</td>\n",
       "      <td>Peel Public Health</td>\n",
       "      <td>40-49</td>\n",
       "      <td>Female</td>\n",
       "      <td>Close Contact</td>\n",
       "      <td>Recovered</td>\n",
       "      <td>Ontario</td>\n",
       "      <td>ON</td>\n",
       "      <td>3553.0</td>\n",
       "    </tr>\n",
       "    <tr>\n",
       "      <th>1</th>\n",
       "      <td>2</td>\n",
       "      <td>1501</td>\n",
       "      <td>01-01-2020 12:00</td>\n",
       "      <td>York Region Public Health Services</td>\n",
       "      <td>40-49</td>\n",
       "      <td>Female</td>\n",
       "      <td>Outbreak</td>\n",
       "      <td>Recovered</td>\n",
       "      <td>Ontario</td>\n",
       "      <td>ON</td>\n",
       "      <td>3570.0</td>\n",
       "    </tr>\n",
       "    <tr>\n",
       "      <th>2</th>\n",
       "      <td>3</td>\n",
       "      <td>1502</td>\n",
       "      <td>10-01-2020 12:00</td>\n",
       "      <td>Peel Public Health</td>\n",
       "      <td>50-59</td>\n",
       "      <td>Female</td>\n",
       "      <td>Close Contact</td>\n",
       "      <td>Recovered</td>\n",
       "      <td>Ontario</td>\n",
       "      <td>ON</td>\n",
       "      <td>3553.0</td>\n",
       "    </tr>\n",
       "    <tr>\n",
       "      <th>3</th>\n",
       "      <td>4</td>\n",
       "      <td>1503</td>\n",
       "      <td>21-01-2020 12:00</td>\n",
       "      <td>Peel Public Health</td>\n",
       "      <td>50-59</td>\n",
       "      <td>Female</td>\n",
       "      <td>Travel-Related</td>\n",
       "      <td>Recovered</td>\n",
       "      <td>Ontario</td>\n",
       "      <td>ON</td>\n",
       "      <td>3553.0</td>\n",
       "    </tr>\n",
       "    <tr>\n",
       "      <th>4</th>\n",
       "      <td>5</td>\n",
       "      <td>1504</td>\n",
       "      <td>22-01-2020 12:00</td>\n",
       "      <td>Windsor-Essex County Health Unit</td>\n",
       "      <td>20-29</td>\n",
       "      <td>Female</td>\n",
       "      <td>Travel-Related</td>\n",
       "      <td>Recovered</td>\n",
       "      <td>Ontario</td>\n",
       "      <td>ON</td>\n",
       "      <td>3568.0</td>\n",
       "    </tr>\n",
       "    <tr>\n",
       "      <th>...</th>\n",
       "      <td>...</td>\n",
       "      <td>...</td>\n",
       "      <td>...</td>\n",
       "      <td>...</td>\n",
       "      <td>...</td>\n",
       "      <td>...</td>\n",
       "      <td>...</td>\n",
       "      <td>...</td>\n",
       "      <td>...</td>\n",
       "      <td>...</td>\n",
       "      <td>...</td>\n",
       "    </tr>\n",
       "    <tr>\n",
       "      <th>108150</th>\n",
       "      <td>108151</td>\n",
       "      <td>108150</td>\n",
       "      <td>13-07-2020 12:00</td>\n",
       "      <td>NaN</td>\n",
       "      <td>NaN</td>\n",
       "      <td>NaN</td>\n",
       "      <td>Travel-Related</td>\n",
       "      <td>NaN</td>\n",
       "      <td>Repatriated</td>\n",
       "      <td>RC</td>\n",
       "      <td>NaN</td>\n",
       "    </tr>\n",
       "    <tr>\n",
       "      <th>108151</th>\n",
       "      <td>108152</td>\n",
       "      <td>108151</td>\n",
       "      <td>13-07-2020 12:00</td>\n",
       "      <td>NaN</td>\n",
       "      <td>NaN</td>\n",
       "      <td>NaN</td>\n",
       "      <td>Travel-Related</td>\n",
       "      <td>NaN</td>\n",
       "      <td>Repatriated</td>\n",
       "      <td>RC</td>\n",
       "      <td>NaN</td>\n",
       "    </tr>\n",
       "    <tr>\n",
       "      <th>108152</th>\n",
       "      <td>108153</td>\n",
       "      <td>108152</td>\n",
       "      <td>13-07-2020 12:00</td>\n",
       "      <td>NaN</td>\n",
       "      <td>NaN</td>\n",
       "      <td>NaN</td>\n",
       "      <td>Travel-Related</td>\n",
       "      <td>NaN</td>\n",
       "      <td>Repatriated</td>\n",
       "      <td>RC</td>\n",
       "      <td>NaN</td>\n",
       "    </tr>\n",
       "    <tr>\n",
       "      <th>108153</th>\n",
       "      <td>108154</td>\n",
       "      <td>108153</td>\n",
       "      <td>13-07-2020 12:00</td>\n",
       "      <td>NaN</td>\n",
       "      <td>NaN</td>\n",
       "      <td>NaN</td>\n",
       "      <td>Travel-Related</td>\n",
       "      <td>NaN</td>\n",
       "      <td>Repatriated</td>\n",
       "      <td>RC</td>\n",
       "      <td>NaN</td>\n",
       "    </tr>\n",
       "    <tr>\n",
       "      <th>108154</th>\n",
       "      <td>108155</td>\n",
       "      <td>108154</td>\n",
       "      <td>13-07-2020 12:00</td>\n",
       "      <td>NaN</td>\n",
       "      <td>NaN</td>\n",
       "      <td>NaN</td>\n",
       "      <td>Travel-Related</td>\n",
       "      <td>NaN</td>\n",
       "      <td>Repatriated</td>\n",
       "      <td>RC</td>\n",
       "      <td>NaN</td>\n",
       "    </tr>\n",
       "  </tbody>\n",
       "</table>\n",
       "<p>108155 rows × 11 columns</p>\n",
       "</div>"
      ],
      "text/plain": [
       "        ObjectId  row_id     date_reported  \\\n",
       "0              1    1500  01-01-2020 12:00   \n",
       "1              2    1501  01-01-2020 12:00   \n",
       "2              3    1502  10-01-2020 12:00   \n",
       "3              4    1503  21-01-2020 12:00   \n",
       "4              5    1504  22-01-2020 12:00   \n",
       "...          ...     ...               ...   \n",
       "108150    108151  108150  13-07-2020 12:00   \n",
       "108151    108152  108151  13-07-2020 12:00   \n",
       "108152    108153  108152  13-07-2020 12:00   \n",
       "108153    108154  108153  13-07-2020 12:00   \n",
       "108154    108155  108154  13-07-2020 12:00   \n",
       "\n",
       "                             health_region age_group  gender        exposure  \\\n",
       "0                       Peel Public Health     40-49  Female   Close Contact   \n",
       "1       York Region Public Health Services     40-49  Female        Outbreak   \n",
       "2                       Peel Public Health     50-59  Female   Close Contact   \n",
       "3                       Peel Public Health     50-59  Female  Travel-Related   \n",
       "4         Windsor-Essex County Health Unit     20-29  Female  Travel-Related   \n",
       "...                                    ...       ...     ...             ...   \n",
       "108150                                 NaN       NaN     NaN  Travel-Related   \n",
       "108151                                 NaN       NaN     NaN  Travel-Related   \n",
       "108152                                 NaN       NaN     NaN  Travel-Related   \n",
       "108153                                 NaN       NaN     NaN  Travel-Related   \n",
       "108154                                 NaN       NaN     NaN  Travel-Related   \n",
       "\n",
       "       case_status     province province_abbr  hr_uid  \n",
       "0        Recovered      Ontario            ON  3553.0  \n",
       "1        Recovered      Ontario            ON  3570.0  \n",
       "2        Recovered      Ontario            ON  3553.0  \n",
       "3        Recovered      Ontario            ON  3553.0  \n",
       "4        Recovered      Ontario            ON  3568.0  \n",
       "...            ...          ...           ...     ...  \n",
       "108150         NaN  Repatriated            RC     NaN  \n",
       "108151         NaN  Repatriated            RC     NaN  \n",
       "108152         NaN  Repatriated            RC     NaN  \n",
       "108153         NaN  Repatriated            RC     NaN  \n",
       "108154         NaN  Repatriated            RC     NaN  \n",
       "\n",
       "[108155 rows x 11 columns]"
      ]
     },
     "execution_count": 19,
     "metadata": {},
     "output_type": "execute_result"
    }
   ],
   "source": [
    "dataframedf"
   ]
  },
  {
   "cell_type": "code",
   "execution_count": 20,
   "metadata": {
    "pycharm": {
     "is_executing": false
    }
   },
   "outputs": [
    {
     "data": {
      "text/plain": [
       "ObjectId             0\n",
       "row_id               0\n",
       "date_reported        0\n",
       "health_region      206\n",
       "age_group        59678\n",
       "gender           59520\n",
       "exposure         72800\n",
       "case_status      62490\n",
       "province             0\n",
       "province_abbr        0\n",
       "hr_uid             282\n",
       "dtype: int64"
      ]
     },
     "execution_count": 20,
     "metadata": {},
     "output_type": "execute_result"
    }
   ],
   "source": [
    "dataframedf.isnull().sum()"
   ]
  },
  {
   "cell_type": "code",
   "execution_count": 21,
   "metadata": {
    "pycharm": {
     "is_executing": false
    }
   },
   "outputs": [],
   "source": [
    "age_group_df = dataframedf[\"age_group\"].dropna()\n",
    "gender_df = dataframedf[\"gender\"].dropna()\n",
    "exposure_df = dataframedf[\"exposure\"].dropna()\n",
    "caseStatus_df = dataframedf[\"case_status\"].dropna()"
   ]
  },
  {
   "cell_type": "code",
   "execution_count": 22,
   "metadata": {
    "pycharm": {
     "is_executing": false
    }
   },
   "outputs": [
    {
     "data": {
      "text/plain": [
       "50-59    False\n",
       "30-39    False\n",
       "40-49    False\n",
       "20-29    False\n",
       "80+      False\n",
       "60-69    False\n",
       "<20      False\n",
       "70-79    False\n",
       "Name: age_group, dtype: bool"
      ]
     },
     "execution_count": 22,
     "metadata": {},
     "output_type": "execute_result"
    }
   ],
   "source": [
    "AgeGroup_na = age_group_df.value_counts()\n",
    "AgeGroup_na.isnull()"
   ]
  },
  {
   "cell_type": "code",
   "execution_count": 23,
   "metadata": {
    "pycharm": {
     "is_executing": false
    }
   },
   "outputs": [
    {
     "data": {
      "text/plain": [
       "50-59    7749\n",
       "30-39    7570\n",
       "40-49    7536\n",
       "20-29    7532\n",
       "80+      6234\n",
       "60-69    5204\n",
       "<20      3332\n",
       "70-79    3320\n",
       "Name: age_group, dtype: int64"
      ]
     },
     "execution_count": 23,
     "metadata": {},
     "output_type": "execute_result"
    }
   ],
   "source": [
    "AgeGroup_na"
   ]
  },
  {
   "cell_type": "code",
   "execution_count": 24,
   "metadata": {
    "pycharm": {
     "is_executing": false
    }
   },
   "outputs": [
    {
     "data": {
      "image/png": "[encoded data removed]",
      "text/plain": [
       "<Figure size 432x288 with 1 Axes>"
      ]
     },
     "metadata": {
      "needs_background": "light"
     },
     "output_type": "display_data"
    }
   ],
   "source": [
    "AgeGroup_na.plot(kind='bar')\n",
    "plt.title(\"Totals\")\n",
    "plt.xlabel(\"Age Group\")\n",
    "plt.ylabel(\"Count\")\n",
    "plt.xticks(rotation=90)\n",
    "plt.show()"
   ]
  },
  {
   "cell_type": "code",
   "execution_count": 25,
   "metadata": {
    "pycharm": {
     "is_executing": false
    }
   },
   "outputs": [
    {
     "data": {
      "text/plain": [
       "Female         False\n",
       "Male           False\n",
       "Other          False\n",
       "Transgender    False\n",
       "Name: gender, dtype: bool"
      ]
     },
     "execution_count": 25,
     "metadata": {},
     "output_type": "execute_result"
    }
   ],
   "source": [
    "Gender_na = gender_df.value_counts()\n",
    "Gender_na.isnull()"
   ]
  },
  {
   "cell_type": "code",
   "execution_count": 26,
   "metadata": {
    "pycharm": {
     "is_executing": false
    }
   },
   "outputs": [
    {
     "data": {
      "text/plain": [
       "Female         25488\n",
       "Male           23130\n",
       "Other              9\n",
       "Transgender        8\n",
       "Name: gender, dtype: int64"
      ]
     },
     "execution_count": 26,
     "metadata": {},
     "output_type": "execute_result"
    }
   ],
   "source": [
    "Gender_na"
   ]
  },
  {
   "cell_type": "code",
   "execution_count": 27,
   "metadata": {
    "pycharm": {
     "is_executing": false
    }
   },
   "outputs": [
    {
     "data": {
      "image/png": "[encoded data removed]",
      "text/plain": [
       "<Figure size 432x288 with 1 Axes>"
      ]
     },
     "metadata": {
      "needs_background": "light"
     },
     "output_type": "display_data"
    }
   ],
   "source": [
    "Gender_na.plot(kind='bar')\n",
    "plt.title(\"Totals\")\n",
    "plt.xlabel(\"Gender Group\")\n",
    "plt.ylabel(\"Count\")\n",
    "plt.xticks(rotation=90)\n",
    "plt.show()"
   ]
  },
  {
   "cell_type": "code",
   "execution_count": 28,
   "metadata": {
    "pycharm": {
     "is_executing": false
    }
   },
   "outputs": [
    {
     "data": {
      "text/plain": [
       "Outbreak                   False\n",
       "Close Contact              False\n",
       "No Epidemiological Link    False\n",
       "Travel-Related             False\n",
       "Community                  False\n",
       "Name: exposure, dtype: bool"
      ]
     },
     "execution_count": 28,
     "metadata": {},
     "output_type": "execute_result"
    }
   ],
   "source": [
    "Exposure_na = exposure_df.value_counts()\n",
    "Exposure_na.isnull()"
   ]
  },
  {
   "cell_type": "code",
   "execution_count": 29,
   "metadata": {
    "pycharm": {
     "is_executing": false
    }
   },
   "outputs": [
    {
     "data": {
      "text/plain": [
       "Outbreak                   14582\n",
       "Close Contact              11478\n",
       "No Epidemiological Link     7313\n",
       "Travel-Related              1976\n",
       "Community                      6\n",
       "Name: exposure, dtype: int64"
      ]
     },
     "execution_count": 29,
     "metadata": {},
     "output_type": "execute_result"
    }
   ],
   "source": [
    "Exposure_na"
   ]
  },
  {
   "cell_type": "code",
   "execution_count": 30,
   "metadata": {
    "pycharm": {
     "is_executing": false
    }
   },
   "outputs": [
    {
     "data": {
      "image/png": "[encoded data removed]",
      "text/plain": [
       "<Figure size 432x288 with 1 Axes>"
      ]
     },
     "metadata": {
      "needs_background": "light"
     },
     "output_type": "display_data"
    }
   ],
   "source": [
    "Exposure_na.plot(kind='bar')\n",
    "plt.title(\"Totals\")\n",
    "plt.xlabel(\"Reason\")\n",
    "plt.ylabel(\"Count\")\n",
    "plt.xticks(rotation=90)\n",
    "plt.show()"
   ]
  },
  {
   "cell_type": "code",
   "execution_count": 31,
   "metadata": {
    "pycharm": {
     "is_executing": false
    }
   },
   "outputs": [
    {
     "data": {
      "text/plain": [
       "Recovered    False\n",
       "Deceased     False\n",
       "Active       False\n",
       "Name: case_status, dtype: bool"
      ]
     },
     "execution_count": 31,
     "metadata": {},
     "output_type": "execute_result"
    }
   ],
   "source": [
    "CaseStatus_na = caseStatus_df.value_counts()\n",
    "CaseStatus_na.isnull()"
   ]
  },
  {
   "cell_type": "code",
   "execution_count": 32,
   "metadata": {
    "pycharm": {
     "is_executing": false
    }
   },
   "outputs": [
    {
     "data": {
      "text/plain": [
       "Recovered    40652\n",
       "Deceased      2883\n",
       "Active        2130\n",
       "Name: case_status, dtype: int64"
      ]
     },
     "execution_count": 32,
     "metadata": {},
     "output_type": "execute_result"
    }
   ],
   "source": [
    "CaseStatus_na"
   ]
  },
  {
   "cell_type": "code",
   "execution_count": 33,
   "metadata": {
    "pycharm": {
     "is_executing": false
    }
   },
   "outputs": [
    {
     "data": {
      "image/png": "[encoded data removed]",
      "text/plain": [
       "<Figure size 432x288 with 1 Axes>"
      ]
     },
     "metadata": {
      "needs_background": "light"
     },
     "output_type": "display_data"
    }
   ],
   "source": [
    "CaseStatus_na.plot(kind='bar')\n",
    "plt.title(\"Totals\")\n",
    "plt.xlabel(\"Status\")\n",
    "plt.ylabel(\"Count\")\n",
    "plt.xticks(rotation=90)\n",
    "plt.show()"
   ]
  },
  {
   "cell_type": "code",
   "execution_count": 33,
   "metadata": {
    "pycharm": {
     "is_executing": false
    }
   },
   "outputs": [],
   "source": []
  },
  {
   "cell_type": "code",
   "execution_count": 34,
   "metadata": {
    "pycharm": {
     "is_executing": false
    }
   },
   "outputs": [
    {
     "data": {
      "text/plain": [
       "Index(['ObjectId', 'row_id', 'date_reported', 'health_region', 'age_group',\n",
       "       'gender', 'exposure', 'case_status', 'province', 'province_abbr',\n",
       "       'hr_uid'],\n",
       "      dtype='object')"
      ]
     },
     "execution_count": 34,
     "metadata": {},
     "output_type": "execute_result"
    }
   ],
   "source": [
    "dataframedf.columns"
   ]
  },
  {
   "cell_type": "code",
   "execution_count": 35,
   "metadata": {
    "pycharm": {
     "is_executing": false
    }
   },
   "outputs": [
    {
     "name": "stdout",
     "output_type": "stream",
     "text": [
      "gender     Female    Male  Other  Transgender\n",
      "age_group                                    \n",
      "20-29      3600.0  3887.0    1.0          1.0\n",
      "30-39      3598.0  3924.0    1.0          3.0\n",
      "40-49      3842.0  3647.0    2.0          1.0\n",
      "50-59      4164.0  3538.0    2.0          NaN\n",
      "60-69      2513.0  2645.0    1.0          1.0\n",
      "70-79      1642.0  1640.0    1.0          NaN\n",
      "80+        4134.0  1980.0    NaN          1.0\n",
      "<20        1625.0  1674.0    1.0          1.0\n"
     ]
    }
   ],
   "source": [
    "age_gender = dataframedf.groupby(['age_group', 'gender']).age_group.count().unstack()\n",
    "print(age_gender)"
   ]
  },
  {
   "cell_type": "code",
   "execution_count": 36,
   "metadata": {
    "pycharm": {
     "is_executing": false
    }
   },
   "outputs": [
    {
     "data": {
      "image/png": "[encoded data removed]",
      "text/plain": [
       "<Figure size 1080x504 with 1 Axes>"
      ]
     },
     "metadata": {
      "needs_background": "light"
     },
     "output_type": "display_data"
    }
   ],
   "source": [
    "ax = age_gender.plot(kind='bar',stacked = False, colormap = 'Paired',figsize=(15, 7))\n",
    "for p in ax.patches:\n",
    "        ax.annotate(np.round(p.get_height(),decimals=0).astype(np.int64), (p.get_x()+p.get_width()/2., \n",
    "                                                                           p.get_height()), ha='center', \n",
    "                                                                            va='center', xytext=(2, 10),\n",
    "                                                                                textcoords='offset points')\n",
    "\n",
    "plt.title(\"Age-group and Gender\")\n",
    "plt.xlabel ('age_group')\n",
    "plt.ylabel ('Count')\n",
    "plt.show()"
   ]
  },
  {
   "cell_type": "code",
   "execution_count": 37,
   "metadata": {
    "pycharm": {
     "is_executing": false
    }
   },
   "outputs": [
    {
     "data": {
      "text/plain": [
       "Index(['ObjectId', 'row_id', 'date_reported', 'health_region', 'age_group',\n",
       "       'gender', 'exposure', 'case_status', 'province', 'province_abbr',\n",
       "       'hr_uid'],\n",
       "      dtype='object')"
      ]
     },
     "execution_count": 37,
     "metadata": {},
     "output_type": "execute_result"
    }
   ],
   "source": [
    "dataframedf.columns"
   ]
  },
  {
   "cell_type": "code",
   "execution_count": 38,
   "metadata": {
    "pycharm": {
     "is_executing": false
    }
   },
   "outputs": [
    {
     "name": "stdout",
     "output_type": "stream",
     "text": [
      "gender                   Female    Male  Other  Transgender\n",
      "exposure                                                   \n",
      "Close Contact            5624.0  5774.0    3.0          4.0\n",
      "No Epidemiological Link  3405.0  3890.0    2.0          2.0\n",
      "Outbreak                 8842.0  5502.0    3.0          1.0\n",
      "Travel-Related            879.0   977.0    NaN          NaN\n"
     ]
    }
   ],
   "source": [
    "exposure_gender = dataframedf.groupby(['exposure', 'gender']).age_group.count().unstack()\n",
    "print(exposure_gender)"
   ]
  },
  {
   "cell_type": "code",
   "execution_count": 39,
   "metadata": {
    "pycharm": {
     "is_executing": false
    }
   },
   "outputs": [
    {
     "data": {
      "image/png": "[encoded data removed]",
      "text/plain": [
       "<Figure size 1080x504 with 1 Axes>"
      ]
     },
     "metadata": {
      "needs_background": "light"
     },
     "output_type": "display_data"
    }
   ],
   "source": [
    "ax = exposure_gender.plot(kind='bar',stacked = False, colormap = 'Paired',figsize=(15, 7))\n",
    "for p in ax.patches:\n",
    "        ax.annotate(np.round(p.get_height(),decimals=0).astype(np.int64), (p.get_x()+p.get_width()/2., p.get_height()), ha='center', va='center', xytext=(2, 10), textcoords='offset points')\n",
    "\n",
    "plt.title(\"Age-Group and Reasons\")\n",
    "plt.xlabel ('Reason')\n",
    "plt.ylabel ('Count')\n",
    "plt.show()"
   ]
  },
  {
   "cell_type": "code",
   "execution_count": 40,
   "metadata": {
    "pycharm": {
     "is_executing": false
    }
   },
   "outputs": [
    {
     "data": {
      "text/plain": [
       "Index(['ObjectId', 'row_id', 'date_reported', 'health_region', 'age_group',\n",
       "       'gender', 'exposure', 'case_status', 'province', 'province_abbr',\n",
       "       'hr_uid'],\n",
       "      dtype='object')"
      ]
     },
     "execution_count": 40,
     "metadata": {},
     "output_type": "execute_result"
    }
   ],
   "source": [
    "dataframedf.columns"
   ]
  },
  {
   "cell_type": "code",
   "execution_count": 41,
   "metadata": {
    "pycharm": {
     "is_executing": false
    }
   },
   "outputs": [
    {
     "name": "stdout",
     "output_type": "stream",
     "text": [
      "age_group                 20-29   30-39   40-49   50-59   60-69   70-79  \\\n",
      "exposure                                                                  \n",
      "Close Contact            2535.0  1820.0  1693.0  1991.0  1266.0   530.0   \n",
      "Community                   NaN     NaN     NaN     3.0     NaN     NaN   \n",
      "No Epidemiological Link  1271.0  1241.0  1250.0  1432.0   982.0   525.0   \n",
      "Outbreak                 1358.0  1627.0  1717.0  1842.0  1329.0  1336.0   \n",
      "Travel-Related            268.0   221.0   308.0   370.0   365.0   246.0   \n",
      "\n",
      "age_group                   80+     <20  \n",
      "exposure                                 \n",
      "Close Contact             284.0  1338.0  \n",
      "Community                   NaN     NaN  \n",
      "No Epidemiological Link   352.0   259.0  \n",
      "Outbreak                 5187.0   178.0  \n",
      "Travel-Related             70.0    40.0  \n"
     ]
    }
   ],
   "source": [
    "exposure_age = dataframedf.groupby(['exposure', 'age_group']).age_group.count().unstack()\n",
    "print(exposure_age)"
   ]
  },
  {
   "cell_type": "code",
   "execution_count": 42,
   "metadata": {
    "pycharm": {
     "is_executing": false
    }
   },
   "outputs": [
    {
     "data": {
      "image/png": "[encoded data removed]",
      "text/plain": [
       "<Figure size 1080x504 with 1 Axes>"
      ]
     },
     "metadata": {
      "needs_background": "light"
     },
     "output_type": "display_data"
    }
   ],
   "source": [
    "ax = exposure_age.plot(kind='bar',stacked = False, colormap = 'Paired',figsize=(15, 7))\n",
    "for p in ax.patches:\n",
    "        ax.annotate(np.round(p.get_height(),decimals=0).astype(np.int64), (p.get_x()+p.get_width()/2., p.get_height()), ha='center', va='center', xytext=(2, 10), textcoords='offset points')\n",
    "\n",
    "plt.title(\"Agr-Group with Reasons\")\n",
    "plt.xlabel ('Reason')\n",
    "plt.ylabel ('Count')\n",
    "plt.show()"
   ]
  },
  {
   "cell_type": "code",
   "execution_count": 43,
   "metadata": {
    "pycharm": {
     "is_executing": false
    }
   },
   "outputs": [
    {
     "data": {
      "text/plain": [
       "Index(['ObjectId', 'row_id', 'date_reported', 'health_region', 'age_group',\n",
       "       'gender', 'exposure', 'case_status', 'province', 'province_abbr',\n",
       "       'hr_uid'],\n",
       "      dtype='object')"
      ]
     },
     "execution_count": 43,
     "metadata": {},
     "output_type": "execute_result"
    }
   ],
   "source": [
    "dataframedf.columns"
   ]
  },
  {
   "cell_type": "code",
   "execution_count": 44,
   "metadata": {
    "pycharm": {
     "is_executing": false
    }
   },
   "outputs": [
    {
     "name": "stdout",
     "output_type": "stream",
     "text": [
      "case_status  Active  Deceased  Recovered\n",
      "gender                                  \n",
      "Female        984.0    1514.0    21328.0\n",
      "Male         1141.0    1329.0    19085.0\n",
      "Other           NaN       NaN        9.0\n",
      "Transgender     NaN       1.0        7.0\n"
     ]
    }
   ],
   "source": [
    "gender_status = dataframedf.groupby(['gender', 'case_status']).ObjectId.count().unstack()\n",
    "print(gender_status)"
   ]
  },
  {
   "cell_type": "code",
   "execution_count": 45,
   "metadata": {
    "pycharm": {
     "is_executing": false
    }
   },
   "outputs": [
    {
     "data": {
      "image/png": "[encoded data removed]",
      "text/plain": [
       "<Figure size 1080x504 with 1 Axes>"
      ]
     },
     "metadata": {
      "needs_background": "light"
     },
     "output_type": "display_data"
    }
   ],
   "source": [
    "ax = gender_status.plot(kind='bar',stacked = False, colormap = 'Paired',figsize=(15, 7))\n",
    "for p in ax.patches:\n",
    "        ax.annotate(np.round(p.get_height(),decimals=0).astype(np.int64), (p.get_x()+p.get_width()/2., p.get_height()), ha='center', va='center', xytext=(2, 10), textcoords='offset points')\n",
    "\n",
    "plt.title(\"Case-Status and Genders\")\n",
    "plt.xlabel ('Reason')\n",
    "plt.ylabel ('Count')\n",
    "plt.show()"
   ]
  },
  {
   "cell_type": "code",
   "execution_count": 46,
   "metadata": {
    "pycharm": {
     "is_executing": false
    }
   },
   "outputs": [
    {
     "data": {
      "text/plain": [
       "Index(['ObjectId', 'row_id', 'date_reported', 'health_region', 'age_group',\n",
       "       'gender', 'exposure', 'case_status', 'province', 'province_abbr',\n",
       "       'hr_uid'],\n",
       "      dtype='object')"
      ]
     },
     "execution_count": 46,
     "metadata": {},
     "output_type": "execute_result"
    }
   ],
   "source": [
    "dataframedf.columns"
   ]
  },
  {
   "cell_type": "code",
   "execution_count": 47,
   "metadata": {
    "pycharm": {
     "is_executing": false
    }
   },
   "outputs": [
    {
     "name": "stdout",
     "output_type": "stream",
     "text": [
      "case_status  Active  Deceased  Recovered\n",
      "age_group                               \n",
      "20-29           475         5       6610\n",
      "30-39           368         8       6615\n",
      "40-49           285        24       6732\n",
      "50-59           290        90       6761\n",
      "60-69           219       249       4350\n",
      "70-79           102       518       2409\n",
      "80+             102      1876       4003\n",
      "<20             253         1       2924\n"
     ]
    }
   ],
   "source": [
    "age_status = dataframedf.groupby(['age_group', 'case_status']).ObjectId.count().unstack()\n",
    "print(age_status)"
   ]
  },
  {
   "cell_type": "code",
   "execution_count": 48,
   "metadata": {
    "pycharm": {
     "is_executing": false
    }
   },
   "outputs": [
    {
     "data": {
      "image/png": "[encoded data removed]",
      "text/plain": [
       "<Figure size 1080x504 with 1 Axes>"
      ]
     },
     "metadata": {
      "needs_background": "light"
     },
     "output_type": "display_data"
    }
   ],
   "source": [
    "ax = age_status.plot(kind='bar',stacked = False, colormap = 'Paired',figsize=(15, 7))\n",
    "for p in ax.patches:\n",
    "        ax.annotate(np.round(p.get_height(),decimals=0).astype(np.int64), (p.get_x()+p.get_width()/2., p.get_height()), ha='center', va='center', xytext=(2, 10), textcoords='offset points')\n",
    "\n",
    "plt.title(\"Case-Status and Age-Group\")\n",
    "plt.xlabel ('Age-Group')\n",
    "plt.ylabel ('Count')\n",
    "plt.show()"
   ]
  },
  {
   "cell_type": "code",
   "execution_count": 48,
   "metadata": {
    "pycharm": {
     "is_executing": false
    }
   },
   "outputs": [],
   "source": []
  },
  {
   "cell_type": "code",
   "execution_count": 49,
   "metadata": {
    "pycharm": {
     "is_executing": false
    }
   },
   "outputs": [
    {
     "data": {
      "text/plain": [
       "Index(['ObjectId', 'row_id', 'date_reported', 'health_region', 'age_group',\n",
       "       'gender', 'exposure', 'case_status', 'province', 'province_abbr',\n",
       "       'hr_uid'],\n",
       "      dtype='object')"
      ]
     },
     "execution_count": 49,
     "metadata": {},
     "output_type": "execute_result"
    }
   ],
   "source": [
    "dataframedf.columns"
   ]
  },
  {
   "cell_type": "code",
   "execution_count": 50,
   "metadata": {
    "pycharm": {
     "is_executing": false
    }
   },
   "outputs": [
    {
     "name": "stdout",
     "output_type": "stream",
     "text": [
      "age_group                 20-29   30-39   40-49   50-59   60-69   70-79  \\\n",
      "gender      case_status                                                   \n",
      "Female      Active        190.0   154.0   128.0   143.0   100.0    54.0   \n",
      "            Deceased        2.0     NaN     6.0    34.0    90.0   197.0   \n",
      "            Recovered    3198.0  3159.0  3463.0  3669.0  2162.0  1261.0   \n",
      "Male        Active        284.0   213.0   157.0   146.0   119.0    48.0   \n",
      "            Deceased        3.0     8.0    18.0    56.0   158.0   316.0   \n",
      "            Recovered    3393.0  3431.0  3238.0  3071.0  2169.0  1129.0   \n",
      "Other       Recovered       1.0     1.0     2.0     2.0     1.0     1.0   \n",
      "Transgender Deceased        NaN     NaN     NaN     NaN     1.0     NaN   \n",
      "            Recovered       1.0     3.0     1.0     NaN     NaN     NaN   \n",
      "\n",
      "age_group                   80+     <20  \n",
      "gender      case_status                  \n",
      "Female      Active         66.0   128.0  \n",
      "            Deceased     1128.0     1.0  \n",
      "            Recovered    2806.0  1436.0  \n",
      "Male        Active         34.0   125.0  \n",
      "            Deceased      714.0     NaN  \n",
      "            Recovered    1122.0  1459.0  \n",
      "Other       Recovered       NaN     1.0  \n",
      "Transgender Deceased        NaN     NaN  \n",
      "            Recovered       1.0     1.0  \n"
     ]
    }
   ],
   "source": [
    "age_status_gender = dataframedf.groupby([\"gender\", 'case_status','age_group']).ObjectId.count().unstack()\n",
    "print(age_status_gender)"
   ]
  },
  {
   "cell_type": "code",
   "execution_count": 51,
   "metadata": {
    "pycharm": {
     "is_executing": false
    }
   },
   "outputs": [
    {
     "data": {
      "image/png": "[encoded data removed]",
      "text/plain": [
       "<Figure size 1800x504 with 1 Axes>"
      ]
     },
     "metadata": {
      "needs_background": "light"
     },
     "output_type": "display_data"
    }
   ],
   "source": [
    "ax = age_status_gender.plot(kind='bar',stacked = True, colormap = 'Paired',figsize=(25, 7))\n",
    "for p in ax.patches:\n",
    "        ax.annotate(np.round(p.get_height(),decimals=0).astype(np.int64), (p.get_x()+p.get_width()/3., p.get_height()), ha='center', va='center', xytext=(2, 10))\n",
    "\n",
    "plt.title(\"ALL IN\")\n",
    "plt.xlabel ('Age-Group')\n",
    "plt.ylabel ('Count')\n",
    "plt.show()"
   ]
  },
  {
   "cell_type": "code",
   "execution_count": 51,
   "metadata": {
    "pycharm": {
     "is_executing": false
    }
   },
   "outputs": [],
   "source": []
  },
  {
   "cell_type": "code",
   "execution_count": 52,
   "metadata": {
    "pycharm": {
     "is_executing": false
    }
   },
   "outputs": [
    {
     "data": {
      "text/plain": [
       "Index(['ObjectId', 'row_id', 'date_reported', 'health_region', 'age_group',\n",
       "       'gender', 'exposure', 'case_status', 'province', 'province_abbr',\n",
       "       'hr_uid'],\n",
       "      dtype='object')"
      ]
     },
     "execution_count": 52,
     "metadata": {},
     "output_type": "execute_result"
    }
   ],
   "source": [
    "dataframedf.columns"
   ]
  },
  {
   "cell_type": "code",
   "execution_count": 53,
   "metadata": {
    "pycharm": {
     "is_executing": false
    }
   },
   "outputs": [
    {
     "name": "stdout",
     "output_type": "stream",
     "text": [
      "age_group                             20-29  30-39   40-49   50-59  60-69  \\\n",
      "gender      exposure                                                        \n",
      "Female      Close Contact            1165.0  900.0   870.0  1018.0  609.0   \n",
      "            No Epidemiological Link   610.0  575.0   622.0   648.0  413.0   \n",
      "            Outbreak                  699.0  781.0  1008.0  1273.0  727.0   \n",
      "            Travel-Related            137.0   94.0   133.0   171.0  185.0   \n",
      "Male        Close Contact            1358.0  913.0   814.0   968.0  649.0   \n",
      "            No Epidemiological Link   660.0  660.0   623.0   780.0  569.0   \n",
      "            Outbreak                  649.0  831.0   687.0   555.0  588.0   \n",
      "            Travel-Related            123.0  121.0   172.0   192.0  172.0   \n",
      "Other       Close Contact               NaN    1.0     NaN     NaN    NaN   \n",
      "            No Epidemiological Link     NaN    NaN     1.0     1.0    NaN   \n",
      "            Outbreak                    NaN    NaN     1.0     1.0    1.0   \n",
      "Transgender Close Contact               1.0    1.0     1.0     NaN    NaN   \n",
      "            No Epidemiological Link     NaN    2.0     NaN     NaN    NaN   \n",
      "            Outbreak                    NaN    NaN     NaN     NaN    NaN   \n",
      "\n",
      "age_group                            70-79     80+    <20  \n",
      "gender      exposure                                       \n",
      "Female      Close Contact            262.0   160.0  640.0  \n",
      "            No Epidemiological Link  233.0   182.0  122.0  \n",
      "            Outbreak                 695.0  3574.0   85.0  \n",
      "            Travel-Related           113.0    24.0   22.0  \n",
      "Male        Close Contact            262.0   115.0  695.0  \n",
      "            No Epidemiological Link  292.0   170.0  136.0  \n",
      "            Outbreak                 618.0  1505.0   69.0  \n",
      "            Travel-Related           133.0    46.0   18.0  \n",
      "Other       Close Contact              1.0     NaN    1.0  \n",
      "            No Epidemiological Link    NaN     NaN    NaN  \n",
      "            Outbreak                   NaN     NaN    NaN  \n",
      "Transgender Close Contact              NaN     NaN    1.0  \n",
      "            No Epidemiological Link    NaN     NaN    NaN  \n",
      "            Outbreak                   NaN     1.0    NaN  \n"
     ]
    }
   ],
   "source": [
    "age_exposure_gender = dataframedf.groupby([\"gender\", 'exposure','age_group']).ObjectId.count().unstack()\n",
    "print(age_exposure_gender)"
   ]
  },
  {
   "cell_type": "code",
   "execution_count": 54,
   "metadata": {
    "pycharm": {
     "is_executing": false
    }
   },
   "outputs": [
    {
     "data": {
      "image/png": "[encoded data removed]",
      "text/plain": [
       "<Figure size 1800x504 with 1 Axes>"
      ]
     },
     "metadata": {
      "needs_background": "light"
     },
     "output_type": "display_data"
    }
   ],
   "source": [
    "ax = age_exposure_gender.plot(kind='bar',stacked = True, colormap = 'Paired',figsize=(25, 7))\n",
    "for p in ax.patches:\n",
    "        ax.annotate(np.round(p.get_height(),decimals=0).astype(np.int64), (p.get_x()+p.get_width()/3., p.get_height()), ha='center', va='center', xytext=(2, 10))\n",
    "\n",
    "plt.title(\"ALL IN\")\n",
    "plt.xlabel ('Age-Group')\n",
    "plt.ylabel ('Count')\n",
    "plt.show()"
   ]
  },
  {
   "cell_type": "code",
   "execution_count": 54,
   "metadata": {
    "pycharm": {
     "is_executing": false
    }
   },
   "outputs": [],
   "source": []
  }
 ],
 "metadata": {
  "kernelspec": {
   "display_name": "Python 3",
   "language": "python",
   "name": "python3"
  },
  "language_info": {
   "codemirror_mode": {
    "name": "ipython",
    "version": 3
   },
   "file_extension": ".py",
   "mimetype": "text/x-python",
   "name": "python",
   "nbconvert_exporter": "python",
   "pygments_lexer": "ipython3",
   "version": "3.7.0"
  }
 },
 "nbformat": 4,
 "nbformat_minor": 4
}
