{
 "cells": [
  {
   "cell_type": "code",
   "execution_count": 39,
   "metadata": {},
   "outputs": [],
   "source": [
    "import pandas as pd\n",
    "import datetime as dt\n",
    "import numpy as np\n",
    "import seaborn as sns\n",
    "import matplotlib.pyplot as plt\n",
    "import sklearn\n",
    "import scipy\n",
    "from scipy import stats\n",
    "from datetime import datetime, timedelta\n",
    "from matplotlib import dates as mpl_dates"
   ]
  },
  {
   "cell_type": "code",
   "execution_count": 40,
   "metadata": {},
   "outputs": [],
   "source": [
    "data = pd.read_csv(r\"D:\\python\\3335\\untitled\\Data\\CasesOverTime.csv\")"
   ]
  },
  {
   "cell_type": "code",
   "execution_count": 41,
   "metadata": {},
   "outputs": [
    {
     "ename": "NameError",
     "evalue": "name 'ont_TOTALS' is not defined",
     "output_type": "error",
     "traceback": [
      "\u001b[1;31m---------------------------------------------------------------------------\u001b[0m",
      "\u001b[1;31mNameError\u001b[0m                                 Traceback (most recent call last)",
      "\u001b[1;32m<ipython-input-41-a9954095a260>\u001b[0m in \u001b[0;36m<module>\u001b[1;34m\u001b[0m\n\u001b[1;32m----> 1\u001b[1;33m \u001b[0mont_TOTALS\u001b[0m\u001b[1;33m.\u001b[0m\u001b[0mtail\u001b[0m\u001b[1;33m(\u001b[0m\u001b[1;33m-\u001b[0m\u001b[1;36m13\u001b[0m\u001b[1;33m)\u001b[0m\u001b[1;33m\u001b[0m\u001b[0m\n\u001b[0m",
      "\u001b[1;31mNameError\u001b[0m: name 'ont_TOTALS' is not defined"
     ]
    }
   ],
   "source": [
    "ont_TOTALS.tail(-13)"
   ]
  },
  {
   "cell_type": "code",
   "execution_count": 42,
   "metadata": {},
   "outputs": [
    {
     "data": {
      "text/plain": [
       "Index(['OBJECTID', 'Province', 'Abbreviation', 'DailyTotals', 'SummaryDate',\n",
       "       'TotalCases', 'TotalRecovered', 'DailyRecovered', 'TotalDeaths',\n",
       "       'DailyDeaths', 'TotalTested', 'DailyTested', 'TotalActive',\n",
       "       'DailyActive'],\n",
       "      dtype='object')"
      ]
     },
     "execution_count": 42,
     "metadata": {},
     "output_type": "execute_result"
    }
   ],
   "source": [
    "data.columns"
   ]
  },
  {
   "cell_type": "code",
   "execution_count": 43,
   "metadata": {},
   "outputs": [],
   "source": [
    "data[\"SummaryDate\"] = pd.to_datetime(data.SummaryDate)"
   ]
  },
  {
   "cell_type": "code",
   "execution_count": 44,
   "metadata": {},
   "outputs": [
    {
     "data": {
      "text/plain": [
       "datetime64[ns, UTC]"
      ]
     },
     "execution_count": 44,
     "metadata": {},
     "output_type": "execute_result"
    }
   ],
   "source": [
    "data[\"SummaryDate\"].dtypes"
   ]
  },
  {
   "cell_type": "code",
   "execution_count": 45,
   "metadata": {},
   "outputs": [],
   "source": [
    "data['Month'] = data.SummaryDate.dt.month_name()\n",
    "gk = data.groupby(\"Province\")\n",
    "date_gk = data.groupby(data[\"Month\"])\n",
    "ont_gk = gk.get_group('ONTARIO')\n",
    "get_month = date_gk.get_group(\"January\")\n",
    "ont_TOTALS = data.groupby(ont_gk.TotalCases).sum()\n"
   ]
  },
  {
   "cell_type": "code",
   "execution_count": null,
   "metadata": {},
   "outputs": [],
   "source": []
  },
  {
   "cell_type": "code",
   "execution_count": 46,
   "metadata": {},
   "outputs": [
    {
     "data": {
      "image/png": "[encoded data removed]",
      "text/plain": [
       "<Figure size 720x720 with 1 Axes>"
      ]
     },
     "metadata": {
      "needs_background": "light"
     },
     "output_type": "display_data"
    }
   ],
   "source": [
    "ont_TOTALS[\"TotalCases\"].plot(kind='bar',color='black' , figsize=(10,10))\n",
    "plt.gca().axes.get_xaxis().set_visible(False)"
   ]
  },
  {
   "cell_type": "code",
   "execution_count": 47,
   "metadata": {},
   "outputs": [
    {
     "data": {
      "image/png": "[encoded data removed]",
      "text/plain": [
       "<Figure size 720x720 with 1 Axes>"
      ]
     },
     "metadata": {
      "needs_background": "light"
     },
     "output_type": "display_data"
    }
   ],
   "source": [
    "ont_TOTALS.plot(kind=\"line\", y=\"TotalCases\", figsize=(10,10))\n",
    "plt.gca().axes.get_xaxis().set_visible(False)"
   ]
  },
  {
   "cell_type": "code",
   "execution_count": 48,
   "metadata": {},
   "outputs": [],
   "source": [
    "data['z_score']=stats.zscore(data['TotalCases'])"
   ]
  },
  {
   "cell_type": "code",
   "execution_count": 49,
   "metadata": {},
   "outputs": [
    {
     "data": {
      "text/plain": [
       "0      -0.364811\n",
       "1      -0.364811\n",
       "2      -0.364811\n",
       "3      -0.364811\n",
       "4      -0.364811\n",
       "          ...   \n",
       "1871   -0.363823\n",
       "1872   -0.363823\n",
       "1873   -0.363823\n",
       "1874   -0.363823\n",
       "1875   -0.363823\n",
       "Name: z_score, Length: 1876, dtype: float64"
      ]
     },
     "execution_count": 49,
     "metadata": {},
     "output_type": "execute_result"
    }
   ],
   "source": [
    "data['z_score']"
   ]
  },
  {
   "cell_type": "code",
   "execution_count": 50,
   "metadata": {},
   "outputs": [
    {
     "data": {
      "text/html": [
       "<div>\n",
       "<style scoped>\n",
       "    .dataframe tbody tr th:only-of-type {\n",
       "        vertical-align: middle;\n",
       "    }\n",
       "\n",
       "    .dataframe tbody tr th {\n",
       "        vertical-align: top;\n",
       "    }\n",
       "\n",
       "    .dataframe thead th {\n",
       "        text-align: right;\n",
       "    }\n",
       "</style>\n",
       "<table border=\"1\" class=\"dataframe\">\n",
       "  <thead>\n",
       "    <tr style=\"text-align: right;\">\n",
       "      <th></th>\n",
       "      <th>OBJECTID</th>\n",
       "      <th>Province</th>\n",
       "      <th>Abbreviation</th>\n",
       "      <th>DailyTotals</th>\n",
       "      <th>SummaryDate</th>\n",
       "      <th>TotalCases</th>\n",
       "      <th>TotalRecovered</th>\n",
       "      <th>DailyRecovered</th>\n",
       "      <th>TotalDeaths</th>\n",
       "      <th>DailyDeaths</th>\n",
       "      <th>TotalTested</th>\n",
       "      <th>DailyTested</th>\n",
       "      <th>TotalActive</th>\n",
       "      <th>DailyActive</th>\n",
       "      <th>Month</th>\n",
       "      <th>z_score</th>\n",
       "    </tr>\n",
       "  </thead>\n",
       "  <tbody>\n",
       "    <tr>\n",
       "      <th>0</th>\n",
       "      <td>1</td>\n",
       "      <td>ALBERTA</td>\n",
       "      <td>AB</td>\n",
       "      <td>0</td>\n",
       "      <td>2020-01-25 12:00:00+00:00</td>\n",
       "      <td>0</td>\n",
       "      <td>0</td>\n",
       "      <td>0</td>\n",
       "      <td>0</td>\n",
       "      <td>0</td>\n",
       "      <td>0</td>\n",
       "      <td>0</td>\n",
       "      <td>0</td>\n",
       "      <td>0.0</td>\n",
       "      <td>January</td>\n",
       "      <td>-0.364811</td>\n",
       "    </tr>\n",
       "    <tr>\n",
       "      <th>1</th>\n",
       "      <td>25</td>\n",
       "      <td>ALBERTA</td>\n",
       "      <td>AB</td>\n",
       "      <td>0</td>\n",
       "      <td>2020-01-26 12:00:00+00:00</td>\n",
       "      <td>0</td>\n",
       "      <td>0</td>\n",
       "      <td>0</td>\n",
       "      <td>0</td>\n",
       "      <td>0</td>\n",
       "      <td>0</td>\n",
       "      <td>0</td>\n",
       "      <td>0</td>\n",
       "      <td>0.0</td>\n",
       "      <td>January</td>\n",
       "      <td>-0.364811</td>\n",
       "    </tr>\n",
       "    <tr>\n",
       "      <th>2</th>\n",
       "      <td>36</td>\n",
       "      <td>ALBERTA</td>\n",
       "      <td>AB</td>\n",
       "      <td>0</td>\n",
       "      <td>2020-01-27 12:00:00+00:00</td>\n",
       "      <td>0</td>\n",
       "      <td>0</td>\n",
       "      <td>0</td>\n",
       "      <td>0</td>\n",
       "      <td>0</td>\n",
       "      <td>0</td>\n",
       "      <td>0</td>\n",
       "      <td>0</td>\n",
       "      <td>0.0</td>\n",
       "      <td>January</td>\n",
       "      <td>-0.364811</td>\n",
       "    </tr>\n",
       "    <tr>\n",
       "      <th>3</th>\n",
       "      <td>54</td>\n",
       "      <td>ALBERTA</td>\n",
       "      <td>AB</td>\n",
       "      <td>0</td>\n",
       "      <td>2020-01-28 12:00:00+00:00</td>\n",
       "      <td>0</td>\n",
       "      <td>0</td>\n",
       "      <td>0</td>\n",
       "      <td>0</td>\n",
       "      <td>0</td>\n",
       "      <td>0</td>\n",
       "      <td>0</td>\n",
       "      <td>0</td>\n",
       "      <td>0.0</td>\n",
       "      <td>January</td>\n",
       "      <td>-0.364811</td>\n",
       "    </tr>\n",
       "    <tr>\n",
       "      <th>4</th>\n",
       "      <td>69</td>\n",
       "      <td>ALBERTA</td>\n",
       "      <td>AB</td>\n",
       "      <td>0</td>\n",
       "      <td>2020-01-29 12:00:00+00:00</td>\n",
       "      <td>0</td>\n",
       "      <td>0</td>\n",
       "      <td>0</td>\n",
       "      <td>0</td>\n",
       "      <td>0</td>\n",
       "      <td>0</td>\n",
       "      <td>0</td>\n",
       "      <td>0</td>\n",
       "      <td>0.0</td>\n",
       "      <td>January</td>\n",
       "      <td>-0.364811</td>\n",
       "    </tr>\n",
       "    <tr>\n",
       "      <th>...</th>\n",
       "      <td>...</td>\n",
       "      <td>...</td>\n",
       "      <td>...</td>\n",
       "      <td>...</td>\n",
       "      <td>...</td>\n",
       "      <td>...</td>\n",
       "      <td>...</td>\n",
       "      <td>...</td>\n",
       "      <td>...</td>\n",
       "      <td>...</td>\n",
       "      <td>...</td>\n",
       "      <td>...</td>\n",
       "      <td>...</td>\n",
       "      <td>...</td>\n",
       "      <td>...</td>\n",
       "      <td>...</td>\n",
       "    </tr>\n",
       "    <tr>\n",
       "      <th>1871</th>\n",
       "      <td>2668</td>\n",
       "      <td>YUKON</td>\n",
       "      <td>YT</td>\n",
       "      <td>0</td>\n",
       "      <td>2020-07-09 12:00:00+00:00</td>\n",
       "      <td>11</td>\n",
       "      <td>11</td>\n",
       "      <td>0</td>\n",
       "      <td>0</td>\n",
       "      <td>0</td>\n",
       "      <td>1322</td>\n",
       "      <td>5</td>\n",
       "      <td>0</td>\n",
       "      <td>0.0</td>\n",
       "      <td>July</td>\n",
       "      <td>-0.363823</td>\n",
       "    </tr>\n",
       "    <tr>\n",
       "      <th>1872</th>\n",
       "      <td>2683</td>\n",
       "      <td>YUKON</td>\n",
       "      <td>YT</td>\n",
       "      <td>0</td>\n",
       "      <td>2020-07-10 12:00:00+00:00</td>\n",
       "      <td>11</td>\n",
       "      <td>11</td>\n",
       "      <td>0</td>\n",
       "      <td>0</td>\n",
       "      <td>0</td>\n",
       "      <td>1327</td>\n",
       "      <td>5</td>\n",
       "      <td>0</td>\n",
       "      <td>0.0</td>\n",
       "      <td>July</td>\n",
       "      <td>-0.363823</td>\n",
       "    </tr>\n",
       "    <tr>\n",
       "      <th>1873</th>\n",
       "      <td>2698</td>\n",
       "      <td>YUKON</td>\n",
       "      <td>YT</td>\n",
       "      <td>0</td>\n",
       "      <td>2020-07-11 12:00:00+00:00</td>\n",
       "      <td>11</td>\n",
       "      <td>11</td>\n",
       "      <td>0</td>\n",
       "      <td>0</td>\n",
       "      <td>0</td>\n",
       "      <td>1327</td>\n",
       "      <td>0</td>\n",
       "      <td>0</td>\n",
       "      <td>0.0</td>\n",
       "      <td>July</td>\n",
       "      <td>-0.363823</td>\n",
       "    </tr>\n",
       "    <tr>\n",
       "      <th>1874</th>\n",
       "      <td>2713</td>\n",
       "      <td>YUKON</td>\n",
       "      <td>YT</td>\n",
       "      <td>0</td>\n",
       "      <td>2020-07-12 12:00:00+00:00</td>\n",
       "      <td>11</td>\n",
       "      <td>11</td>\n",
       "      <td>0</td>\n",
       "      <td>0</td>\n",
       "      <td>0</td>\n",
       "      <td>1327</td>\n",
       "      <td>0</td>\n",
       "      <td>0</td>\n",
       "      <td>0.0</td>\n",
       "      <td>July</td>\n",
       "      <td>-0.363823</td>\n",
       "    </tr>\n",
       "    <tr>\n",
       "      <th>1875</th>\n",
       "      <td>2728</td>\n",
       "      <td>YUKON</td>\n",
       "      <td>YT</td>\n",
       "      <td>0</td>\n",
       "      <td>2020-07-13 12:00:00+00:00</td>\n",
       "      <td>11</td>\n",
       "      <td>11</td>\n",
       "      <td>0</td>\n",
       "      <td>0</td>\n",
       "      <td>0</td>\n",
       "      <td>1343</td>\n",
       "      <td>16</td>\n",
       "      <td>0</td>\n",
       "      <td>0.0</td>\n",
       "      <td>July</td>\n",
       "      <td>-0.363823</td>\n",
       "    </tr>\n",
       "  </tbody>\n",
       "</table>\n",
       "<p>1811 rows × 16 columns</p>\n",
       "</div>"
      ],
      "text/plain": [
       "      OBJECTID Province Abbreviation  DailyTotals               SummaryDate  \\\n",
       "0            1  ALBERTA           AB            0 2020-01-25 12:00:00+00:00   \n",
       "1           25  ALBERTA           AB            0 2020-01-26 12:00:00+00:00   \n",
       "2           36  ALBERTA           AB            0 2020-01-27 12:00:00+00:00   \n",
       "3           54  ALBERTA           AB            0 2020-01-28 12:00:00+00:00   \n",
       "4           69  ALBERTA           AB            0 2020-01-29 12:00:00+00:00   \n",
       "...        ...      ...          ...          ...                       ...   \n",
       "1871      2668    YUKON           YT            0 2020-07-09 12:00:00+00:00   \n",
       "1872      2683    YUKON           YT            0 2020-07-10 12:00:00+00:00   \n",
       "1873      2698    YUKON           YT            0 2020-07-11 12:00:00+00:00   \n",
       "1874      2713    YUKON           YT            0 2020-07-12 12:00:00+00:00   \n",
       "1875      2728    YUKON           YT            0 2020-07-13 12:00:00+00:00   \n",
       "\n",
       "      TotalCases  TotalRecovered  DailyRecovered  TotalDeaths  DailyDeaths  \\\n",
       "0              0               0               0            0            0   \n",
       "1              0               0               0            0            0   \n",
       "2              0               0               0            0            0   \n",
       "3              0               0               0            0            0   \n",
       "4              0               0               0            0            0   \n",
       "...          ...             ...             ...          ...          ...   \n",
       "1871          11              11               0            0            0   \n",
       "1872          11              11               0            0            0   \n",
       "1873          11              11               0            0            0   \n",
       "1874          11              11               0            0            0   \n",
       "1875          11              11               0            0            0   \n",
       "\n",
       "      TotalTested  DailyTested  TotalActive  DailyActive    Month   z_score  \n",
       "0               0            0            0          0.0  January -0.364811  \n",
       "1               0            0            0          0.0  January -0.364811  \n",
       "2               0            0            0          0.0  January -0.364811  \n",
       "3               0            0            0          0.0  January -0.364811  \n",
       "4               0            0            0          0.0  January -0.364811  \n",
       "...           ...          ...          ...          ...      ...       ...  \n",
       "1871         1322            5            0          0.0     July -0.363823  \n",
       "1872         1327            5            0          0.0     July -0.363823  \n",
       "1873         1327            0            0          0.0     July -0.363823  \n",
       "1874         1327            0            0          0.0     July -0.363823  \n",
       "1875         1343           16            0          0.0     July -0.363823  \n",
       "\n",
       "[1811 rows x 16 columns]"
      ]
     },
     "execution_count": 50,
     "metadata": {},
     "output_type": "execute_result"
    }
   ],
   "source": [
    "data.loc[data['z_score'].abs()<=3]"
   ]
  },
  {
   "cell_type": "code",
   "execution_count": 51,
   "metadata": {},
   "outputs": [
    {
     "data": {
      "text/plain": [
       "<matplotlib.axes._subplots.AxesSubplot at 0x22fc9f1c208>"
      ]
     },
     "execution_count": 51,
     "metadata": {},
     "output_type": "execute_result"
    },
    {
     "data": {
      "image/png": "[encoded data removed]",
      "text/plain": [
       "<Figure size 432x288 with 1 Axes>"
      ]
     },
     "metadata": {
      "needs_background": "light"
     },
     "output_type": "display_data"
    }
   ],
   "source": [
    "sns.boxplot(x=data['TotalCases'])"
   ]
  },
  {
   "cell_type": "code",
   "execution_count": null,
   "metadata": {},
   "outputs": [],
   "source": []
  },
  {
   "cell_type": "code",
   "execution_count": 52,
   "metadata": {},
   "outputs": [],
   "source": [
    "gk2 = data.groupby(\"Province\")"
   ]
  },
  {
   "cell_type": "code",
   "execution_count": 53,
   "metadata": {},
   "outputs": [],
   "source": [
    "date_gk2 = data.groupby(data[\"Month\"])"
   ]
  },
  {
   "cell_type": "code",
   "execution_count": 54,
   "metadata": {},
   "outputs": [
    {
     "data": {
      "text/plain": [
       "Month     Month   \n",
       "April     April       358\n",
       "February  February    232\n",
       "January   January      56\n",
       "July      July        169\n",
       "June      June        390\n",
       "March     March       268\n",
       "May       May         403\n",
       "Name: Month, dtype: int64"
      ]
     },
     "execution_count": 54,
     "metadata": {},
     "output_type": "execute_result"
    }
   ],
   "source": [
    "date_gk2.Month.value_counts()"
   ]
  },
  {
   "cell_type": "code",
   "execution_count": 55,
   "metadata": {},
   "outputs": [
    {
     "data": {
      "text/plain": [
       "Index(['OBJECTID', 'Province', 'Abbreviation', 'DailyTotals', 'SummaryDate',\n",
       "       'TotalCases', 'TotalRecovered', 'DailyRecovered', 'TotalDeaths',\n",
       "       'DailyDeaths', 'TotalTested', 'DailyTested', 'TotalActive',\n",
       "       'DailyActive', 'Month', 'z_score'],\n",
       "      dtype='object')"
      ]
     },
     "execution_count": 55,
     "metadata": {},
     "output_type": "execute_result"
    }
   ],
   "source": [
    "data.columns"
   ]
  },
  {
   "cell_type": "code",
   "execution_count": 56,
   "metadata": {},
   "outputs": [],
   "source": [
    "province_filter = data.loc[:,'Province']"
   ]
  },
  {
   "cell_type": "code",
   "execution_count": 57,
   "metadata": {},
   "outputs": [],
   "source": [
    "ont_data = data[province_filter=='ONTARIO']"
   ]
  },
  {
   "cell_type": "code",
   "execution_count": 58,
   "metadata": {},
   "outputs": [],
   "source": [
    "gr2 = ont_data.groupby(data['Month'])"
   ]
  },
  {
   "cell_type": "code",
   "execution_count": 59,
   "metadata": {},
   "outputs": [
    {
     "data": {
      "text/plain": [
       "Month\n",
       "April       AxesSubplot(0.125,0.125;0.775x0.755)\n",
       "February    AxesSubplot(0.125,0.125;0.775x0.755)\n",
       "January     AxesSubplot(0.125,0.125;0.775x0.755)\n",
       "July        AxesSubplot(0.125,0.125;0.775x0.755)\n",
       "June        AxesSubplot(0.125,0.125;0.775x0.755)\n",
       "March       AxesSubplot(0.125,0.125;0.775x0.755)\n",
       "May         AxesSubplot(0.125,0.125;0.775x0.755)\n",
       "dtype: object"
      ]
     },
     "execution_count": 59,
     "metadata": {},
     "output_type": "execute_result"
    },
    {
     "data": {
      "image/png": "[encoded data removed]",
      "text/plain": [
       "<Figure size 216x216 with 1 Axes>"
      ]
     },
     "metadata": {
      "needs_background": "light"
     },
     "output_type": "display_data"
    },
    {
     "data": {
      "image/png": "[encoded data removed]",
      "text/plain": [
       "<Figure size 216x216 with 1 Axes>"
      ]
     },
     "metadata": {
      "needs_background": "light"
     },
     "output_type": "display_data"
    },
    {
     "data": {
      "image/png": "[encoded data removed]",
      "text/plain": [
       "<Figure size 216x216 with 1 Axes>"
      ]
     },
     "metadata": {
      "needs_background": "light"
     },
     "output_type": "display_data"
    },
    {
     "data": {
      "image/png": "[encoded data removed]",
      "text/plain": [
       "<Figure size 216x216 with 1 Axes>"
      ]
     },
     "metadata": {
      "needs_background": "light"
     },
     "output_type": "display_data"
    },
    {
     "data": {
      "image/png": "[encoded data removed]",
      "text/plain": [
       "<Figure size 216x216 with 1 Axes>"
      ]
     },
     "metadata": {
      "needs_background": "light"
     },
     "output_type": "display_data"
    },
    {
     "data": {
      "image/png": "[encoded data removed]",
      "text/plain": [
       "<Figure size 216x216 with 1 Axes>"
      ]
     },
     "metadata": {
      "needs_background": "light"
     },
     "output_type": "display_data"
    },
    {
     "data": {
      "image/png": "[encoded data removed]",
      "text/plain": [
       "<Figure size 216x216 with 1 Axes>"
      ]
     },
     "metadata": {
      "needs_background": "light"
     },
     "output_type": "display_data"
    }
   ],
   "source": [
    "gr2.plot(x= \"Month\", y=\"TotalCases\",kind=\"line\",figsize=(3,3))"
   ]
  },
  {
   "cell_type": "code",
   "execution_count": null,
   "outputs": [],
   "source": [
    "fig,ax =plt.subplots()\n",
    "gr2.plot(x= \"Month\", y=\"TotalCases\",ax=ax,legend=False)"
   ],
   "metadata": {
    "collapsed": false,
    "pycharm": {
     "name": "#%%\n"
    }
   }
  },
  {
   "cell_type": "code",
   "execution_count": 61,
   "metadata": {},
   "outputs": [
    {
     "data": {
      "text/plain": [
       "Month\n",
       "April       AxesSubplot(0.125,0.125;0.775x0.755)\n",
       "February    AxesSubplot(0.125,0.125;0.775x0.755)\n",
       "January     AxesSubplot(0.125,0.125;0.775x0.755)\n",
       "July        AxesSubplot(0.125,0.125;0.775x0.755)\n",
       "June        AxesSubplot(0.125,0.125;0.775x0.755)\n",
       "March       AxesSubplot(0.125,0.125;0.775x0.755)\n",
       "May         AxesSubplot(0.125,0.125;0.775x0.755)\n",
       "dtype: object"
      ]
     },
     "execution_count": 61,
     "metadata": {},
     "output_type": "execute_result"
    },
    {
     "data": {
      "image/png": "[encoded data removed]",
      "text/plain": [
       "<Figure size 432x288 with 1 Axes>"
      ]
     },
     "metadata": {
      "needs_background": "light"
     },
     "output_type": "display_data"
    }
   ],
   "source": [
    "data.columns"
   ]
  },
  {
   "cell_type": "code",
   "execution_count": 19,
   "metadata": {},
   "outputs": [
    {
     "data": {
      "text/plain": [
       "Index(['OBJECTID', 'Province', 'Abbreviation', 'DailyTotals', 'SummaryDate',\n",
       "       'TotalCases', 'TotalRecovered', 'DailyRecovered', 'TotalDeaths',\n",
       "       'DailyDeaths', 'TotalTested', 'DailyTested', 'TotalActive',\n",
       "       'DailyActive', 'z_score'],\n",
       "      dtype='object')"
      ]
     },
     "execution_count": 19,
     "metadata": {},
     "output_type": "execute_result"
    }
   ],
   "source": [
    "data.columns"
   ]
  },
  {
   "cell_type": "code",
   "execution_count": null,
   "metadata": {},
   "outputs": [],
   "source": []
  },
  {
   "cell_type": "code",
   "execution_count": 20,
   "metadata": {},
   "outputs": [],
   "source": [
    "boolean = []\n",
    "for Province in data.Province:\n",
    "    if Province ==\"ONTARIO\":\n",
    "        boolean.append(True)\n",
    "    else:\n",
    "        boolean.append(False)\n",
    "        \n",
    "        "
   ]
  },
  {
   "cell_type": "code",
   "execution_count": 21,
   "metadata": {},
   "outputs": [],
   "source": [
    "is_ont = pd.Series(boolean)"
   ]
  },
  {
   "cell_type": "code",
   "execution_count": 22,
   "metadata": {},
   "outputs": [],
   "source": [
    "ont_filter = data[is_ont]"
   ]
  },
  {
   "cell_type": "code",
   "execution_count": 23,
   "metadata": {},
   "outputs": [
    {
     "data": {
      "text/plain": [
       "OBJECTID            int64\n",
       "Province           object\n",
       "Abbreviation       object\n",
       "DailyTotals         int64\n",
       "SummaryDate        object\n",
       "TotalCases          int64\n",
       "TotalRecovered      int64\n",
       "DailyRecovered      int64\n",
       "TotalDeaths         int64\n",
       "DailyDeaths         int64\n",
       "TotalTested         int64\n",
       "DailyTested         int64\n",
       "TotalActive         int64\n",
       "DailyActive       float64\n",
       "z_score           float64\n",
       "dtype: object"
      ]
     },
     "execution_count": 23,
     "metadata": {},
     "output_type": "execute_result"
    }
   ],
   "source": [
    "data.dtypes"
   ]
  },
  {
   "cell_type": "code",
   "execution_count": null,
   "metadata": {},
   "outputs": [],
   "source": []
  },
  {
   "cell_type": "code",
   "execution_count": 24,
   "metadata": {},
   "outputs": [],
   "source": [
    "prov=data.groupby(\"Province\")"
   ]
  },
  {
   "cell_type": "code",
   "execution_count": 25,
   "metadata": {},
   "outputs": [
    {
     "data": {
      "text/html": [
       "<div>\n",
       "<style scoped>\n",
       "    .dataframe tbody tr th:only-of-type {\n",
       "        vertical-align: middle;\n",
       "    }\n",
       "\n",
       "    .dataframe tbody tr th {\n",
       "        vertical-align: top;\n",
       "    }\n",
       "\n",
       "    .dataframe thead th {\n",
       "        text-align: right;\n",
       "    }\n",
       "</style>\n",
       "<table border=\"1\" class=\"dataframe\">\n",
       "  <thead>\n",
       "    <tr style=\"text-align: right;\">\n",
       "      <th></th>\n",
       "      <th>OBJECTID</th>\n",
       "      <th>Province</th>\n",
       "      <th>Abbreviation</th>\n",
       "      <th>DailyTotals</th>\n",
       "      <th>SummaryDate</th>\n",
       "      <th>TotalCases</th>\n",
       "      <th>TotalRecovered</th>\n",
       "      <th>DailyRecovered</th>\n",
       "      <th>TotalDeaths</th>\n",
       "      <th>DailyDeaths</th>\n",
       "      <th>TotalTested</th>\n",
       "      <th>DailyTested</th>\n",
       "      <th>TotalActive</th>\n",
       "      <th>DailyActive</th>\n",
       "      <th>z_score</th>\n",
       "    </tr>\n",
       "  </thead>\n",
       "  <tbody>\n",
       "    <tr>\n",
       "      <th>1143</th>\n",
       "      <td>6</td>\n",
       "      <td>ONTARIO</td>\n",
       "      <td>ON</td>\n",
       "      <td>1</td>\n",
       "      <td>2020/01/25 12:00:00+00</td>\n",
       "      <td>1</td>\n",
       "      <td>0</td>\n",
       "      <td>0</td>\n",
       "      <td>0</td>\n",
       "      <td>0</td>\n",
       "      <td>0</td>\n",
       "      <td>0</td>\n",
       "      <td>1</td>\n",
       "      <td>1.0</td>\n",
       "      <td>-0.364721</td>\n",
       "    </tr>\n",
       "    <tr>\n",
       "      <th>1144</th>\n",
       "      <td>17</td>\n",
       "      <td>ONTARIO</td>\n",
       "      <td>ON</td>\n",
       "      <td>0</td>\n",
       "      <td>2020/01/26 12:00:00+00</td>\n",
       "      <td>1</td>\n",
       "      <td>0</td>\n",
       "      <td>0</td>\n",
       "      <td>0</td>\n",
       "      <td>0</td>\n",
       "      <td>0</td>\n",
       "      <td>0</td>\n",
       "      <td>1</td>\n",
       "      <td>0.0</td>\n",
       "      <td>-0.364721</td>\n",
       "    </tr>\n",
       "    <tr>\n",
       "      <th>1145</th>\n",
       "      <td>31</td>\n",
       "      <td>ONTARIO</td>\n",
       "      <td>ON</td>\n",
       "      <td>1</td>\n",
       "      <td>2020/01/27 12:00:00+00</td>\n",
       "      <td>2</td>\n",
       "      <td>0</td>\n",
       "      <td>0</td>\n",
       "      <td>0</td>\n",
       "      <td>0</td>\n",
       "      <td>0</td>\n",
       "      <td>0</td>\n",
       "      <td>2</td>\n",
       "      <td>1.0</td>\n",
       "      <td>-0.364632</td>\n",
       "    </tr>\n",
       "    <tr>\n",
       "      <th>1146</th>\n",
       "      <td>43</td>\n",
       "      <td>ONTARIO</td>\n",
       "      <td>ON</td>\n",
       "      <td>0</td>\n",
       "      <td>2020/01/28 12:00:00+00</td>\n",
       "      <td>2</td>\n",
       "      <td>0</td>\n",
       "      <td>0</td>\n",
       "      <td>0</td>\n",
       "      <td>0</td>\n",
       "      <td>0</td>\n",
       "      <td>0</td>\n",
       "      <td>2</td>\n",
       "      <td>0.0</td>\n",
       "      <td>-0.364632</td>\n",
       "    </tr>\n",
       "    <tr>\n",
       "      <th>1147</th>\n",
       "      <td>58</td>\n",
       "      <td>ONTARIO</td>\n",
       "      <td>ON</td>\n",
       "      <td>0</td>\n",
       "      <td>2020/01/29 12:00:00+00</td>\n",
       "      <td>2</td>\n",
       "      <td>0</td>\n",
       "      <td>0</td>\n",
       "      <td>0</td>\n",
       "      <td>0</td>\n",
       "      <td>0</td>\n",
       "      <td>0</td>\n",
       "      <td>2</td>\n",
       "      <td>0.0</td>\n",
       "      <td>-0.364632</td>\n",
       "    </tr>\n",
       "    <tr>\n",
       "      <th>...</th>\n",
       "      <td>...</td>\n",
       "      <td>...</td>\n",
       "      <td>...</td>\n",
       "      <td>...</td>\n",
       "      <td>...</td>\n",
       "      <td>...</td>\n",
       "      <td>...</td>\n",
       "      <td>...</td>\n",
       "      <td>...</td>\n",
       "      <td>...</td>\n",
       "      <td>...</td>\n",
       "      <td>...</td>\n",
       "      <td>...</td>\n",
       "      <td>...</td>\n",
       "      <td>...</td>\n",
       "    </tr>\n",
       "    <tr>\n",
       "      <th>1309</th>\n",
       "      <td>2678</td>\n",
       "      <td>ONTARIO</td>\n",
       "      <td>ON</td>\n",
       "      <td>170</td>\n",
       "      <td>2020/07/09 12:00:00+00</td>\n",
       "      <td>36348</td>\n",
       "      <td>31977</td>\n",
       "      <td>172</td>\n",
       "      <td>2703</td>\n",
       "      <td>3</td>\n",
       "      <td>1608687</td>\n",
       "      <td>26326</td>\n",
       "      <td>1668</td>\n",
       "      <td>-5.0</td>\n",
       "      <td>2.899480</td>\n",
       "    </tr>\n",
       "    <tr>\n",
       "      <th>1310</th>\n",
       "      <td>2693</td>\n",
       "      <td>ONTARIO</td>\n",
       "      <td>ON</td>\n",
       "      <td>116</td>\n",
       "      <td>2020/07/10 12:00:00+00</td>\n",
       "      <td>36464</td>\n",
       "      <td>32155</td>\n",
       "      <td>178</td>\n",
       "      <td>2710</td>\n",
       "      <td>7</td>\n",
       "      <td>1636171</td>\n",
       "      <td>27484</td>\n",
       "      <td>1599</td>\n",
       "      <td>-69.0</td>\n",
       "      <td>2.909897</td>\n",
       "    </tr>\n",
       "    <tr>\n",
       "      <th>1311</th>\n",
       "      <td>2708</td>\n",
       "      <td>ONTARIO</td>\n",
       "      <td>ON</td>\n",
       "      <td>130</td>\n",
       "      <td>2020/07/11 12:00:00+00</td>\n",
       "      <td>36594</td>\n",
       "      <td>32422</td>\n",
       "      <td>267</td>\n",
       "      <td>2716</td>\n",
       "      <td>6</td>\n",
       "      <td>1665693</td>\n",
       "      <td>29522</td>\n",
       "      <td>1456</td>\n",
       "      <td>-143.0</td>\n",
       "      <td>2.921572</td>\n",
       "    </tr>\n",
       "    <tr>\n",
       "      <th>1312</th>\n",
       "      <td>2723</td>\n",
       "      <td>ONTARIO</td>\n",
       "      <td>ON</td>\n",
       "      <td>129</td>\n",
       "      <td>2020/07/12 12:00:00+00</td>\n",
       "      <td>36723</td>\n",
       "      <td>32534</td>\n",
       "      <td>112</td>\n",
       "      <td>2719</td>\n",
       "      <td>3</td>\n",
       "      <td>1691419</td>\n",
       "      <td>25726</td>\n",
       "      <td>1470</td>\n",
       "      <td>14.0</td>\n",
       "      <td>2.933157</td>\n",
       "    </tr>\n",
       "    <tr>\n",
       "      <th>1313</th>\n",
       "      <td>2738</td>\n",
       "      <td>ONTARIO</td>\n",
       "      <td>ON</td>\n",
       "      <td>116</td>\n",
       "      <td>2020/07/13 12:00:00+00</td>\n",
       "      <td>36839</td>\n",
       "      <td>32663</td>\n",
       "      <td>129</td>\n",
       "      <td>2722</td>\n",
       "      <td>3</td>\n",
       "      <td>1712315</td>\n",
       "      <td>20896</td>\n",
       "      <td>1454</td>\n",
       "      <td>-16.0</td>\n",
       "      <td>2.943575</td>\n",
       "    </tr>\n",
       "  </tbody>\n",
       "</table>\n",
       "<p>171 rows × 15 columns</p>\n",
       "</div>"
      ],
      "text/plain": [
       "      OBJECTID Province Abbreviation  DailyTotals             SummaryDate  \\\n",
       "1143         6  ONTARIO           ON            1  2020/01/25 12:00:00+00   \n",
       "1144        17  ONTARIO           ON            0  2020/01/26 12:00:00+00   \n",
       "1145        31  ONTARIO           ON            1  2020/01/27 12:00:00+00   \n",
       "1146        43  ONTARIO           ON            0  2020/01/28 12:00:00+00   \n",
       "1147        58  ONTARIO           ON            0  2020/01/29 12:00:00+00   \n",
       "...        ...      ...          ...          ...                     ...   \n",
       "1309      2678  ONTARIO           ON          170  2020/07/09 12:00:00+00   \n",
       "1310      2693  ONTARIO           ON          116  2020/07/10 12:00:00+00   \n",
       "1311      2708  ONTARIO           ON          130  2020/07/11 12:00:00+00   \n",
       "1312      2723  ONTARIO           ON          129  2020/07/12 12:00:00+00   \n",
       "1313      2738  ONTARIO           ON          116  2020/07/13 12:00:00+00   \n",
       "\n",
       "      TotalCases  TotalRecovered  DailyRecovered  TotalDeaths  DailyDeaths  \\\n",
       "1143           1               0               0            0            0   \n",
       "1144           1               0               0            0            0   \n",
       "1145           2               0               0            0            0   \n",
       "1146           2               0               0            0            0   \n",
       "1147           2               0               0            0            0   \n",
       "...          ...             ...             ...          ...          ...   \n",
       "1309       36348           31977             172         2703            3   \n",
       "1310       36464           32155             178         2710            7   \n",
       "1311       36594           32422             267         2716            6   \n",
       "1312       36723           32534             112         2719            3   \n",
       "1313       36839           32663             129         2722            3   \n",
       "\n",
       "      TotalTested  DailyTested  TotalActive  DailyActive   z_score  \n",
       "1143            0            0            1          1.0 -0.364721  \n",
       "1144            0            0            1          0.0 -0.364721  \n",
       "1145            0            0            2          1.0 -0.364632  \n",
       "1146            0            0            2          0.0 -0.364632  \n",
       "1147            0            0            2          0.0 -0.364632  \n",
       "...           ...          ...          ...          ...       ...  \n",
       "1309      1608687        26326         1668         -5.0  2.899480  \n",
       "1310      1636171        27484         1599        -69.0  2.909897  \n",
       "1311      1665693        29522         1456       -143.0  2.921572  \n",
       "1312      1691419        25726         1470         14.0  2.933157  \n",
       "1313      1712315        20896         1454        -16.0  2.943575  \n",
       "\n",
       "[171 rows x 15 columns]"
      ]
     },
     "execution_count": 25,
     "metadata": {},
     "output_type": "execute_result"
    }
   ],
   "source": [
    "prov.get_group(\"ONTARIO\")"
   ]
  },
  {
   "cell_type": "code",
   "execution_count": 26,
   "metadata": {},
   "outputs": [],
   "source": [
    "max_prov =prov.get_group(\"ALBERTA\").max()"
   ]
  },
  {
   "cell_type": "code",
   "execution_count": 27,
   "metadata": {},
   "outputs": [
    {
     "data": {
      "text/plain": [
       "OBJECTID                            2735\n",
       "Province                         ALBERTA\n",
       "Abbreviation                          AB\n",
       "DailyTotals                          319\n",
       "SummaryDate       2020/07/13 12:00:00+00\n",
       "TotalCases                          8826\n",
       "TotalRecovered                      7989\n",
       "DailyRecovered                       335\n",
       "TotalDeaths                          161\n",
       "DailyDeaths                            9\n",
       "TotalTested                       540102\n",
       "DailyTested                        25132\n",
       "TotalActive                         3125\n",
       "DailyActive                          270\n",
       "z_score                         0.427822\n",
       "dtype: object"
      ]
     },
     "execution_count": 27,
     "metadata": {},
     "output_type": "execute_result"
    }
   ],
   "source": [
    "max_prov"
   ]
  },
  {
   "cell_type": "code",
   "execution_count": 28,
   "metadata": {},
   "outputs": [
    {
     "ename": "KeyError",
     "evalue": "'Month'",
     "output_type": "error",
     "traceback": [
      "\u001b[1;31m---------------------------------------------------------------------------\u001b[0m",
      "\u001b[1;31mKeyError\u001b[0m                                  Traceback (most recent call last)",
      "\u001b[1;32mc:\\users\\mrkoh\\pycharmprojects\\untitled1\\venv\\lib\\site-packages\\pandas\\core\\indexes\\base.py\u001b[0m in \u001b[0;36mget_loc\u001b[1;34m(self, key, method, tolerance)\u001b[0m\n\u001b[0;32m   2645\u001b[0m             \u001b[1;32mtry\u001b[0m\u001b[1;33m:\u001b[0m\u001b[1;33m\u001b[0m\u001b[0m\n\u001b[1;32m-> 2646\u001b[1;33m                 \u001b[1;32mreturn\u001b[0m \u001b[0mself\u001b[0m\u001b[1;33m.\u001b[0m\u001b[0m_engine\u001b[0m\u001b[1;33m.\u001b[0m\u001b[0mget_loc\u001b[0m\u001b[1;33m(\u001b[0m\u001b[0mkey\u001b[0m\u001b[1;33m)\u001b[0m\u001b[1;33m\u001b[0m\u001b[0m\n\u001b[0m\u001b[0;32m   2647\u001b[0m             \u001b[1;32mexcept\u001b[0m \u001b[0mKeyError\u001b[0m\u001b[1;33m:\u001b[0m\u001b[1;33m\u001b[0m\u001b[0m\n",
      "\u001b[1;32mpandas\\_libs\\index.pyx\u001b[0m in \u001b[0;36mpandas._libs.index.IndexEngine.get_loc\u001b[1;34m()\u001b[0m\n",
      "\u001b[1;32mpandas\\_libs\\index.pyx\u001b[0m in \u001b[0;36mpandas._libs.index.IndexEngine.get_loc\u001b[1;34m()\u001b[0m\n",
      "\u001b[1;32mpandas\\_libs\\hashtable_class_helper.pxi\u001b[0m in \u001b[0;36mpandas._libs.hashtable.PyObjectHashTable.get_item\u001b[1;34m()\u001b[0m\n",
      "\u001b[1;32mpandas\\_libs\\hashtable_class_helper.pxi\u001b[0m in \u001b[0;36mpandas._libs.hashtable.PyObjectHashTable.get_item\u001b[1;34m()\u001b[0m\n",
      "\u001b[1;31mKeyError\u001b[0m: 'Month'",
      "\nDuring handling of the above exception, another exception occurred:\n",
      "\u001b[1;31mKeyError\u001b[0m                                  Traceback (most recent call last)",
      "\u001b[1;32m<ipython-input-28-0ae568b5c08a>\u001b[0m in \u001b[0;36m<module>\u001b[1;34m\u001b[0m\n\u001b[1;32m----> 1\u001b[1;33m \u001b[0mcheck\u001b[0m \u001b[1;33m=\u001b[0m \u001b[0mpd\u001b[0m\u001b[1;33m.\u001b[0m\u001b[0mDataFrame\u001b[0m\u001b[1;33m(\u001b[0m\u001b[0mdata\u001b[0m\u001b[1;33m.\u001b[0m\u001b[0mgroupby\u001b[0m\u001b[1;33m(\u001b[0m\u001b[1;33m[\u001b[0m\u001b[1;34m'Province'\u001b[0m\u001b[1;33m,\u001b[0m \u001b[0mdata\u001b[0m\u001b[1;33m[\u001b[0m\u001b[1;34m'Month'\u001b[0m\u001b[1;33m]\u001b[0m\u001b[1;33m]\u001b[0m\u001b[1;33m)\u001b[0m\u001b[1;33m[\u001b[0m\u001b[1;34m\"TotalCases\"\u001b[0m\u001b[1;33m,\u001b[0m\u001b[1;34m\"TotalRecovered\"\u001b[0m\u001b[1;33m,\u001b[0m\u001b[1;34m\"TotalDeaths\"\u001b[0m\u001b[1;33m]\u001b[0m\u001b[1;33m.\u001b[0m\u001b[0mmax\u001b[0m\u001b[1;33m(\u001b[0m\u001b[1;33m)\u001b[0m\u001b[1;33m)\u001b[0m\u001b[1;33m.\u001b[0m\u001b[0mreset_index\u001b[0m\u001b[1;33m(\u001b[0m\u001b[0mdrop\u001b[0m\u001b[1;33m=\u001b[0m\u001b[1;32mFalse\u001b[0m\u001b[1;33m)\u001b[0m\u001b[1;33m\u001b[0m\u001b[0m\n\u001b[0m",
      "\u001b[1;32mc:\\users\\mrkoh\\pycharmprojects\\untitled1\\venv\\lib\\site-packages\\pandas\\core\\frame.py\u001b[0m in \u001b[0;36m__getitem__\u001b[1;34m(self, key)\u001b[0m\n\u001b[0;32m   2798\u001b[0m             \u001b[1;32mif\u001b[0m \u001b[0mself\u001b[0m\u001b[1;33m.\u001b[0m\u001b[0mcolumns\u001b[0m\u001b[1;33m.\u001b[0m\u001b[0mnlevels\u001b[0m \u001b[1;33m>\u001b[0m \u001b[1;36m1\u001b[0m\u001b[1;33m:\u001b[0m\u001b[1;33m\u001b[0m\u001b[0m\n\u001b[0;32m   2799\u001b[0m                 \u001b[1;32mreturn\u001b[0m \u001b[0mself\u001b[0m\u001b[1;33m.\u001b[0m\u001b[0m_getitem_multilevel\u001b[0m\u001b[1;33m(\u001b[0m\u001b[0mkey\u001b[0m\u001b[1;33m)\u001b[0m\u001b[1;33m\u001b[0m\u001b[0m\n\u001b[1;32m-> 2800\u001b[1;33m             \u001b[0mindexer\u001b[0m \u001b[1;33m=\u001b[0m \u001b[0mself\u001b[0m\u001b[1;33m.\u001b[0m\u001b[0mcolumns\u001b[0m\u001b[1;33m.\u001b[0m\u001b[0mget_loc\u001b[0m\u001b[1;33m(\u001b[0m\u001b[0mkey\u001b[0m\u001b[1;33m)\u001b[0m\u001b[1;33m\u001b[0m\u001b[0m\n\u001b[0m\u001b[0;32m   2801\u001b[0m             \u001b[1;32mif\u001b[0m \u001b[0mis_integer\u001b[0m\u001b[1;33m(\u001b[0m\u001b[0mindexer\u001b[0m\u001b[1;33m)\u001b[0m\u001b[1;33m:\u001b[0m\u001b[1;33m\u001b[0m\u001b[0m\n\u001b[0;32m   2802\u001b[0m                 \u001b[0mindexer\u001b[0m \u001b[1;33m=\u001b[0m \u001b[1;33m[\u001b[0m\u001b[0mindexer\u001b[0m\u001b[1;33m]\u001b[0m\u001b[1;33m\u001b[0m\u001b[0m\n",
      "\u001b[1;32mc:\\users\\mrkoh\\pycharmprojects\\untitled1\\venv\\lib\\site-packages\\pandas\\core\\indexes\\base.py\u001b[0m in \u001b[0;36mget_loc\u001b[1;34m(self, key, method, tolerance)\u001b[0m\n\u001b[0;32m   2646\u001b[0m                 \u001b[1;32mreturn\u001b[0m \u001b[0mself\u001b[0m\u001b[1;33m.\u001b[0m\u001b[0m_engine\u001b[0m\u001b[1;33m.\u001b[0m\u001b[0mget_loc\u001b[0m\u001b[1;33m(\u001b[0m\u001b[0mkey\u001b[0m\u001b[1;33m)\u001b[0m\u001b[1;33m\u001b[0m\u001b[0m\n\u001b[0;32m   2647\u001b[0m             \u001b[1;32mexcept\u001b[0m \u001b[0mKeyError\u001b[0m\u001b[1;33m:\u001b[0m\u001b[1;33m\u001b[0m\u001b[0m\n\u001b[1;32m-> 2648\u001b[1;33m                 \u001b[1;32mreturn\u001b[0m \u001b[0mself\u001b[0m\u001b[1;33m.\u001b[0m\u001b[0m_engine\u001b[0m\u001b[1;33m.\u001b[0m\u001b[0mget_loc\u001b[0m\u001b[1;33m(\u001b[0m\u001b[0mself\u001b[0m\u001b[1;33m.\u001b[0m\u001b[0m_maybe_cast_indexer\u001b[0m\u001b[1;33m(\u001b[0m\u001b[0mkey\u001b[0m\u001b[1;33m)\u001b[0m\u001b[1;33m)\u001b[0m\u001b[1;33m\u001b[0m\u001b[0m\n\u001b[0m\u001b[0;32m   2649\u001b[0m         \u001b[0mindexer\u001b[0m \u001b[1;33m=\u001b[0m \u001b[0mself\u001b[0m\u001b[1;33m.\u001b[0m\u001b[0mget_indexer\u001b[0m\u001b[1;33m(\u001b[0m\u001b[1;33m[\u001b[0m\u001b[0mkey\u001b[0m\u001b[1;33m]\u001b[0m\u001b[1;33m,\u001b[0m \u001b[0mmethod\u001b[0m\u001b[1;33m=\u001b[0m\u001b[0mmethod\u001b[0m\u001b[1;33m,\u001b[0m \u001b[0mtolerance\u001b[0m\u001b[1;33m=\u001b[0m\u001b[0mtolerance\u001b[0m\u001b[1;33m)\u001b[0m\u001b[1;33m\u001b[0m\u001b[0m\n\u001b[0;32m   2650\u001b[0m         \u001b[1;32mif\u001b[0m \u001b[0mindexer\u001b[0m\u001b[1;33m.\u001b[0m\u001b[0mndim\u001b[0m \u001b[1;33m>\u001b[0m \u001b[1;36m1\u001b[0m \u001b[1;32mor\u001b[0m \u001b[0mindexer\u001b[0m\u001b[1;33m.\u001b[0m\u001b[0msize\u001b[0m \u001b[1;33m>\u001b[0m \u001b[1;36m1\u001b[0m\u001b[1;33m:\u001b[0m\u001b[1;33m\u001b[0m\u001b[0m\n",
      "\u001b[1;32mpandas\\_libs\\index.pyx\u001b[0m in \u001b[0;36mpandas._libs.index.IndexEngine.get_loc\u001b[1;34m()\u001b[0m\n",
      "\u001b[1;32mpandas\\_libs\\index.pyx\u001b[0m in \u001b[0;36mpandas._libs.index.IndexEngine.get_loc\u001b[1;34m()\u001b[0m\n",
      "\u001b[1;32mpandas\\_libs\\hashtable_class_helper.pxi\u001b[0m in \u001b[0;36mpandas._libs.hashtable.PyObjectHashTable.get_item\u001b[1;34m()\u001b[0m\n",
      "\u001b[1;32mpandas\\_libs\\hashtable_class_helper.pxi\u001b[0m in \u001b[0;36mpandas._libs.hashtable.PyObjectHashTable.get_item\u001b[1;34m()\u001b[0m\n",
      "\u001b[1;31mKeyError\u001b[0m: 'Month'"
     ]
    }
   ],
   "source": [
    "check = pd.DataFrame(data.groupby(['Province', data['Month']])[\"TotalCases\",\"TotalRecovered\",\"TotalDeaths\"].max()).reset_index(drop=False)"
   ]
  },
  {
   "cell_type": "code",
   "execution_count": 29,
   "metadata": {},
   "outputs": [
    {
     "ename": "NameError",
     "evalue": "name 'check' is not defined",
     "output_type": "error",
     "traceback": [
      "\u001b[1;31m---------------------------------------------------------------------------\u001b[0m",
      "\u001b[1;31mNameError\u001b[0m                                 Traceback (most recent call last)",
      "\u001b[1;32m<ipython-input-29-a2a7e1857040>\u001b[0m in \u001b[0;36m<module>\u001b[1;34m\u001b[0m\n\u001b[1;32m----> 1\u001b[1;33m \u001b[0mcheck\u001b[0m\u001b[1;33m\u001b[0m\u001b[0m\n\u001b[0m",
      "\u001b[1;31mNameError\u001b[0m: name 'check' is not defined"
     ]
    }
   ],
   "source": [
    "check"
   ]
  },
  {
   "cell_type": "code",
   "execution_count": null,
   "metadata": {},
   "outputs": [],
   "source": []
  },
  {
   "cell_type": "code",
   "execution_count": 30,
   "metadata": {},
   "outputs": [
    {
     "ename": "NameError",
     "evalue": "name 'check' is not defined",
     "output_type": "error",
     "traceback": [
      "\u001b[1;31m---------------------------------------------------------------------------\u001b[0m",
      "\u001b[1;31mNameError\u001b[0m                                 Traceback (most recent call last)",
      "\u001b[1;32m<ipython-input-30-09503e72a30a>\u001b[0m in \u001b[0;36m<module>\u001b[1;34m\u001b[0m\n\u001b[1;32m----> 1\u001b[1;33m \u001b[0mcheck\u001b[0m\u001b[1;33m.\u001b[0m\u001b[0msort_values\u001b[0m\u001b[1;33m(\u001b[0m\u001b[0mby\u001b[0m\u001b[1;33m=\u001b[0m\u001b[1;33m[\u001b[0m\u001b[1;34m'Province'\u001b[0m\u001b[1;33m,\u001b[0m\u001b[1;34m'Month'\u001b[0m\u001b[1;33m,\u001b[0m\u001b[1;34m\"TotalCases\"\u001b[0m\u001b[1;33m,\u001b[0m\u001b[1;34m\"TotalRecovered\"\u001b[0m\u001b[1;33m,\u001b[0m\u001b[1;34m\"TotalDeaths\"\u001b[0m\u001b[1;33m]\u001b[0m\u001b[1;33m,\u001b[0m\u001b[0mascending\u001b[0m\u001b[1;33m=\u001b[0m\u001b[1;32mTrue\u001b[0m\u001b[1;33m)\u001b[0m\u001b[1;33m\u001b[0m\u001b[0m\n\u001b[0m",
      "\u001b[1;31mNameError\u001b[0m: name 'check' is not defined"
     ]
    }
   ],
   "source": [
    "check.sort_values(by=['Province','Month',\"TotalCases\",\"TotalRecovered\",\"TotalDeaths\"],ascending=True)"
   ]
  },
  {
   "cell_type": "code",
   "execution_count": 31,
   "metadata": {},
   "outputs": [],
   "source": [
    "def plot_bar(feature, value, title, df, size):\n",
    "    f, ax = plt.subplots(1,1, figsize=(2*size,7))\n",
    "    df = df.sort_values([value], ascending=False).reset_index(drop=True)\n",
    "    g = sns.barplot(df[feature][0:], df[value][0:], palette='Set2')\n",
    "    ax.set_xticklabels(ax.get_xticklabels(),rotation=90)\n",
    "    plt.ylim(0,55000)\n",
    "    plt.show()"
   ]
  },
  {
   "cell_type": "code",
   "execution_count": 32,
   "metadata": {},
   "outputs": [
    {
     "ename": "NameError",
     "evalue": "name 'check' is not defined",
     "output_type": "error",
     "traceback": [
      "\u001b[1;31m---------------------------------------------------------------------------\u001b[0m",
      "\u001b[1;31mNameError\u001b[0m                                 Traceback (most recent call last)",
      "\u001b[1;32m<ipython-input-32-50821c794a3a>\u001b[0m in \u001b[0;36m<module>\u001b[1;34m\u001b[0m\n\u001b[1;32m----> 1\u001b[1;33m \u001b[0mfiltered_set\u001b[0m \u001b[1;33m=\u001b[0m \u001b[0mcheck\u001b[0m\u001b[1;33m.\u001b[0m\u001b[0mdrop_duplicates\u001b[0m\u001b[1;33m(\u001b[0m\u001b[0msubset\u001b[0m \u001b[1;33m=\u001b[0m \u001b[1;33m[\u001b[0m\u001b[1;34m'TotalCases'\u001b[0m\u001b[1;33m]\u001b[0m\u001b[1;33m)\u001b[0m\u001b[1;33m\u001b[0m\u001b[0m\n\u001b[0m",
      "\u001b[1;31mNameError\u001b[0m: name 'check' is not defined"
     ]
    }
   ],
   "source": [
    "filtered_set = check.drop_duplicates(subset = ['TotalCases'])"
   ]
  },
  {
   "cell_type": "code",
   "execution_count": 33,
   "metadata": {},
   "outputs": [
    {
     "ename": "NameError",
     "evalue": "name 'filtered_set' is not defined",
     "output_type": "error",
     "traceback": [
      "\u001b[1;31m---------------------------------------------------------------------------\u001b[0m",
      "\u001b[1;31mNameError\u001b[0m                                 Traceback (most recent call last)",
      "\u001b[1;32m<ipython-input-33-d2834f56796a>\u001b[0m in \u001b[0;36m<module>\u001b[1;34m\u001b[0m\n\u001b[1;32m----> 1\u001b[1;33m \u001b[0mplot_bar\u001b[0m\u001b[1;33m(\u001b[0m\u001b[1;34m'Province'\u001b[0m\u001b[1;33m,\u001b[0m \u001b[1;34m'TotalCases'\u001b[0m\u001b[1;33m,\u001b[0m\u001b[1;34m'Total cases'\u001b[0m\u001b[1;33m,\u001b[0m \u001b[0mfiltered_set\u001b[0m\u001b[1;33m,\u001b[0m \u001b[0msize\u001b[0m\u001b[1;33m=\u001b[0m\u001b[1;36m10\u001b[0m\u001b[1;33m)\u001b[0m\u001b[1;33m\u001b[0m\u001b[0m\n\u001b[0m",
      "\u001b[1;31mNameError\u001b[0m: name 'filtered_set' is not defined"
     ]
    }
   ],
   "source": [
    "plot_bar('Province', 'TotalCases','Total cases', filtered_set, size=10)"
   ]
  },
  {
   "cell_type": "code",
   "execution_count": 34,
   "metadata": {},
   "outputs": [
    {
     "ename": "NameError",
     "evalue": "name 'check' is not defined",
     "output_type": "error",
     "traceback": [
      "\u001b[1;31m---------------------------------------------------------------------------\u001b[0m",
      "\u001b[1;31mNameError\u001b[0m                                 Traceback (most recent call last)",
      "\u001b[1;32m<ipython-input-34-87a098dda66b>\u001b[0m in \u001b[0;36m<module>\u001b[1;34m\u001b[0m\n\u001b[1;32m----> 1\u001b[1;33m \u001b[0mplot_bar\u001b[0m\u001b[1;33m(\u001b[0m\u001b[1;34m'Province'\u001b[0m\u001b[1;33m,\u001b[0m \u001b[1;34m'TotalCases'\u001b[0m\u001b[1;33m,\u001b[0m\u001b[1;34m'Total cases'\u001b[0m\u001b[1;33m,\u001b[0m \u001b[0mcheck\u001b[0m\u001b[1;33m,\u001b[0m \u001b[0msize\u001b[0m\u001b[1;33m=\u001b[0m\u001b[1;36m10\u001b[0m\u001b[1;33m)\u001b[0m\u001b[1;33m\u001b[0m\u001b[0m\n\u001b[0m",
      "\u001b[1;31mNameError\u001b[0m: name 'check' is not defined"
     ]
    }
   ],
   "source": [
    "plot_bar('Province', 'TotalCases','Total cases', check, size=10)"
   ]
  },
  {
   "cell_type": "code",
   "execution_count": 35,
   "metadata": {},
   "outputs": [
    {
     "data": {
      "text/plain": [
       "OBJECTID          0\n",
       "Province          0\n",
       "Abbreviation      0\n",
       "DailyTotals       0\n",
       "SummaryDate       0\n",
       "TotalCases        0\n",
       "TotalRecovered    0\n",
       "DailyRecovered    0\n",
       "TotalDeaths       0\n",
       "DailyDeaths       0\n",
       "TotalTested       0\n",
       "DailyTested       0\n",
       "TotalActive       0\n",
       "DailyActive       4\n",
       "z_score           0\n",
       "dtype: int64"
      ]
     },
     "execution_count": 35,
     "metadata": {},
     "output_type": "execute_result"
    }
   ],
   "source": [
    "data.isnull().sum()"
   ]
  },
  {
   "cell_type": "code",
   "execution_count": null,
   "metadata": {},
   "outputs": [],
   "source": []
  },
  {
   "cell_type": "code",
   "execution_count": null,
   "metadata": {},
   "outputs": [],
   "source": []
  },
  {
   "cell_type": "code",
   "execution_count": null,
   "metadata": {},
   "outputs": [],
   "source": []
  }
 ],
 "metadata": {
  "kernelspec": {
   "display_name": "Python 3",
   "language": "python",
   "name": "python3"
  },
  "language_info": {
   "codemirror_mode": {
    "name": "ipython",
    "version": 3
   },
   "file_extension": ".py",
   "mimetype": "text/x-python",
   "name": "python",
   "nbconvert_exporter": "python",
   "pygments_lexer": "ipython3",
   "version": "3.7.0"
  },
  "pycharm": {
   "stem_cell": {
    "cell_type": "raw",
    "source": [],
    "metadata": {
     "collapsed": false
    }
   }
  }
 },
 "nbformat": 4,
 "nbformat_minor": 4
}